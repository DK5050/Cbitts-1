{
  "cells": [
    {
      "cell_type": "markdown",
      "metadata": {
        "id": "view-in-github",
        "colab_type": "text"
      },
      "source": [
        "<a href=\"https://colab.research.google.com/github/DK5050/Cbitts-1/blob/main/My_Python_Intro.ipynb\" target=\"_parent\"><img src=\"https://colab.research.google.com/assets/colab-badge.svg\" alt=\"Open In Colab\"/></a>"
      ]
    },
    {
      "cell_type": "code",
      "source": [
        "print (\"Devesh\")"
      ],
      "metadata": {
        "id": "-a3acnrM1oC1",
        "outputId": "3a3ddabf-2ae7-405b-f1d9-f27d92a6a3ff",
        "colab": {
          "base_uri": "https://localhost:8080/"
        }
      },
      "execution_count": null,
      "outputs": [
        {
          "output_type": "stream",
          "name": "stdout",
          "text": [
            "Devesh\n"
          ]
        }
      ]
    },
    {
      "cell_type": "code",
      "source": [
        "a = \"My name is Devesh\"\n",
        "\n",
        "print(a)"
      ],
      "metadata": {
        "id": "y2eT8Dvk2DHM",
        "outputId": "a2768d56-c42f-49c5-8e0f-20d14c3fbbd6",
        "colab": {
          "base_uri": "https://localhost:8080/"
        }
      },
      "execution_count": null,
      "outputs": [
        {
          "output_type": "stream",
          "name": "stdout",
          "text": [
            "My name is Devesh\n"
          ]
        }
      ]
    },
    {
      "cell_type": "code",
      "source": [
        "print (\"My name is Devesh\")\n",
        "print (\"My age is 25\")\n",
        "print (\"My address is Ridhi Towers, Shivalik City, Kharar\")\n",
        "print (\"My hobbies are watching anime and reading manga\")\n",
        "print (\"My family includes my mother, my father, my sister-in-law and my brother\")\n",
        "print (\"My goal in life is to earn boatload of money\")\n",
        "print (\"I have graduated from Chitkara University, Baddi\")\n",
        "print (\"I ave completed my graduation in B.E Computer Science\")"
      ],
      "metadata": {
        "id": "Q4EBM3Bx25lF",
        "outputId": "a84478a9-fc51-46a6-d2bc-6c831823ba27",
        "colab": {
          "base_uri": "https://localhost:8080/"
        }
      },
      "execution_count": null,
      "outputs": [
        {
          "output_type": "stream",
          "name": "stdout",
          "text": [
            "My name is Devesh\n",
            "My age is 25\n",
            "My address is Ridhi Towers, Shivalik City, Kharar\n",
            "My hobbies are watching anime and reading manga\n",
            "My family includes my mother, my father, my sister-in-law and my brother\n",
            "My goal in life is to earn boatload of money\n",
            "I have graduated from Chitkara University, Baddi\n",
            "I ave completed my graduation in B.E Computer Science\n"
          ]
        }
      ]
    },
    {
      "cell_type": "code",
      "source": [
        "a = 25\n",
        "print (\"My age is\",a)"
      ],
      "metadata": {
        "id": "CiI5rOsR3L4R",
        "outputId": "4b173dd2-9f85-495e-a5fb-b60abc3d94b8",
        "colab": {
          "base_uri": "https://localhost:8080/"
        }
      },
      "execution_count": null,
      "outputs": [
        {
          "output_type": "stream",
          "name": "stdout",
          "text": [
            "My age is 25\n"
          ]
        }
      ]
    },
    {
      "cell_type": "code",
      "source": [
        "# Below if the Top 5 most populated states in India\n",
        "\n",
        "print (\"Most populated states in India\")\n",
        "print (\"1. Uttar Pradesh with population of 199 million\")\n",
        "print (\"2. Maharashtra with population of 112 million\")\n",
        "print (\"3. Bihar with population of 104 million\")\n",
        "print (\"4. West Bengal with population of 91 million\")\n",
        "print (\"5. Madhya Pradesh with population of 72 million\")"
      ],
      "metadata": {
        "colab": {
          "base_uri": "https://localhost:8080/"
        },
        "id": "2BhT60qU88yj",
        "outputId": "82f7e448-4486-4a39-f00d-0d67732be447"
      },
      "execution_count": null,
      "outputs": [
        {
          "output_type": "stream",
          "name": "stdout",
          "text": [
            "Most populated states in India\n",
            "1. Uttar Pradesh with population of 199 million\n",
            "2. Maharashtra with population of 112 million\n",
            "3. Bihar with population of 104 million\n",
            "4. West Bengal with population of 91 million\n",
            "5. Madhya Pradesh with population of 72 million\n"
          ]
        }
      ]
    },
    {
      "cell_type": "code",
      "source": [
        "a = \"Devesh\"\n",
        "b = \"Kashyap\"\n",
        "print (a+b)"
      ],
      "metadata": {
        "colab": {
          "base_uri": "https://localhost:8080/"
        },
        "id": "rCAFgFiF_TFT",
        "outputId": "698144c6-ded0-4f83-f825-a359a76c28ea"
      },
      "execution_count": null,
      "outputs": [
        {
          "output_type": "stream",
          "name": "stdout",
          "text": [
            "DeveshKashyap\n"
          ]
        }
      ]
    },
    {
      "cell_type": "code",
      "source": [
        "a =2\n",
        "b = 3\n",
        "print (a+b)"
      ],
      "metadata": {
        "colab": {
          "base_uri": "https://localhost:8080/"
        },
        "id": "s9LrN23U_1hg",
        "outputId": "68a8fb5a-335a-4aba-b694-c5cd41137073"
      },
      "execution_count": null,
      "outputs": [
        {
          "output_type": "stream",
          "name": "stdout",
          "text": [
            "5\n"
          ]
        }
      ]
    },
    {
      "cell_type": "code",
      "source": [
        "# Below are the details of Account and aslo the Account Holder.\n",
        "\"\"\"there are all the information about the account holder and account\"\"\"\n",
        "\n",
        "print (\"Account holder details\")\n",
        "print (\"Account Holder name = Devesh Kashyap\")\n",
        "print (\"Registered Mobile number = 6239887570\")\n",
        "print (\"Residential Address = Ridhi Towers, Shivalik City, Kharar\")\n",
        "\n",
        "print (\"Account Details\")\n",
        "print (\"Account Number = 35356998033\")\n",
        "print (\"IFSC Code = SBIN0000702\")\n",
        "print (\"Bank Name = STATE BANK OF INDIA\")\n",
        "print (\"Branch Name = SBI RAMPUR BUSR, HP\")\n",
        "\n"
      ],
      "metadata": {
        "colab": {
          "base_uri": "https://localhost:8080/"
        },
        "id": "GWsN1v_yAfhz",
        "outputId": "3389885a-c612-4b92-87e0-1c995e311e91"
      },
      "execution_count": null,
      "outputs": [
        {
          "output_type": "stream",
          "name": "stdout",
          "text": [
            "Account holder details\n",
            "Account Holder name = Devesh Kashyap\n",
            "Registered Mobile number = 6239887570\n",
            "Residential Address = Ridhi Towers, Shivalik City, Kharar\n",
            "Account Details\n",
            "Account Number = 35356998033\n",
            "IFSC Code = SBIN0000702\n",
            "Bank Name = STATE BANK OF INDIA\n",
            "Branch Name = SBI RAMPUR BUSR, HP\n"
          ]
        }
      ]
    },
    {
      "cell_type": "code",
      "source": [
        "# Below if my daily routine shedule\n",
        "\n",
        "print (\" My Daily Routine\")\n",
        "print (\"7:00 AM Wake-Up\")\n",
        "print (\"7:30 AM -8:30 AM Morning Workout\")\n",
        "print (\"8:30 AM Freshen Up Time\")\n",
        "print (\"9:00 AM Breakfast Time\")\n",
        "print (\"9:30 AM OFF TO WORK\")\n",
        "print (\"1:30 PM Lunch Time\")\n",
        "print (\"3:00 PM OFF TO HOME FROM WORK\")\n",
        "print (\"3:30 PM - 5:30 PM Academy Time\")\n",
        "print (\"6:00 PM - 8:00 PM Hangout with friends\")\n",
        "print (\"9 PM Dinner Time\")\n",
        "print (\"10:00 PM OFF TO SLEEP\")"
      ],
      "metadata": {
        "colab": {
          "base_uri": "https://localhost:8080/"
        },
        "id": "SNboIyHjDFqt",
        "outputId": "7100d190-c5b2-47cd-b92c-a92fd77cc5ee"
      },
      "execution_count": null,
      "outputs": [
        {
          "output_type": "stream",
          "name": "stdout",
          "text": [
            " My Daily Routine\n",
            "7:00 AM Wake-Up\n",
            "7:30 AM -8:30 AM Morning Workout\n",
            "8:30 AM Freshen Up Time\n",
            "9:00 AM Breakfast Time\n",
            "9:30 AM OFF TO WORK\n",
            "1:30 PM Lunch Time\n",
            "3:00 PM OFF TO HOME FROM WORK\n",
            "3:30 PM - 5:30 PM Academy Time\n",
            "6:00 PM - 8:00 PM Hangout with friends\n",
            "9 PM Dinner Time\n",
            "10:00 PM OFF TO SLEEP\n"
          ]
        }
      ]
    },
    {
      "cell_type": "code",
      "source": [
        "#Below is my required monthly grocery list\n",
        "\"\"\"all the items are in kg and litre\"\"\"\n",
        "\n",
        "print (\"Monthly Grocery List\")\n",
        "print (\"Wheat = 10 kg\")\n",
        "print (\"Rice = 10 kg\")\n",
        "print (\"Sugar = 5 kg\")\n",
        "print (\"Salt = 5 kg\")\n",
        "print (\"Oil = 2 litre\")\n",
        "print (\"Pulses = 2 kg/packet\")\n",
        "print (\"Onion = 5 kg\")\n",
        "print (\"Garlic = 2 kg\")\n",
        "print (\"Potato = 5 kg\")\n",
        "print (\"Ginger = 1 kg\")\n",
        "print (\"Cold Drinks = 2 litre\")\n",
        "print (\"Coffee = 1kg\")\n",
        "print (\"Tea = 1 kg\")\n",
        "print (\"1 Jumbo Pack of Corn Flakes\")\n",
        "print (\"Porridge = 1 kg\")"
      ],
      "metadata": {
        "colab": {
          "base_uri": "https://localhost:8080/"
        },
        "id": "Tx3DYzX8rkyS",
        "outputId": "733115c8-97e8-4b63-cbd4-d690b97cb440"
      },
      "execution_count": null,
      "outputs": [
        {
          "output_type": "stream",
          "name": "stdout",
          "text": [
            "Monthly Grocery List\n",
            "Wheat = 10 kg\n",
            "Rice = 10 kg\n",
            "Sugar = 5 kg\n",
            "Salt = 5 kg\n",
            "Oil = 2 litre\n",
            "Pulses = 2 kg/packet\n",
            "Onion = 5 kg\n",
            "Garlic = 2 kg\n",
            "Potato = 5 kg\n",
            "Ginger = 1 kg\n",
            "Cold Drinks = 2 litre\n",
            "Coffee = 1kg\n",
            "Tea = 1 kg\n",
            "1 Jumbo Pack of Corn Flakes\n",
            "Porridge = 1 kg\n"
          ]
        }
      ]
    },
    {
      "cell_type": "code",
      "source": [
        "# Below is the addition of 2 following numbers\n",
        "\"\"\"first number is 73 and second number is 45\"\"\"\n",
        "\n",
        "first_number, second_number = 73, 45\n",
        "\n",
        "print(\"Sum of the numbers:\", first_number + second_number)"
      ],
      "metadata": {
        "colab": {
          "base_uri": "https://localhost:8080/"
        },
        "id": "dWXta3Tq9bIC",
        "outputId": "569ce529-863c-4972-9cd9-2d4927cc5e58"
      },
      "execution_count": null,
      "outputs": [
        {
          "output_type": "stream",
          "name": "stdout",
          "text": [
            "Sum of the numbers: 118\n"
          ]
        }
      ]
    },
    {
      "cell_type": "code",
      "source": [
        "# Below is the multiplication of 2 following numbers\n",
        "\"\"\"first number is 82 and second number is 65\"\"\"\n",
        "\n",
        "first_number = 82\n",
        "second_number = 65\n",
        "\n",
        "print(\"Multiplication of the numbers:\", first_number * second_number)"
      ],
      "metadata": {
        "colab": {
          "base_uri": "https://localhost:8080/"
        },
        "id": "7b6O1SM1-g0Z",
        "outputId": "9ed39e5b-1ab1-4fb3-a70c-06f5a8c6ecc2"
      },
      "execution_count": null,
      "outputs": [
        {
          "output_type": "stream",
          "name": "stdout",
          "text": [
            "Multiplication of the numbers: 5330\n"
          ]
        }
      ]
    },
    {
      "cell_type": "markdown",
      "source": [],
      "metadata": {
        "id": "es8iR--kE-bb"
      }
    },
    {
      "cell_type": "code",
      "source": [
        "# Below is the division of the 2 following numbers\n",
        "\"\"\"first number is 77 and second number is 33\"\"\"\n",
        "\n",
        "first_number = 77\n",
        "second_number = 33\n",
        "\n",
        "print(\"Divisoin of the numbers:\", first_number / second_number)"
      ],
      "metadata": {
        "colab": {
          "base_uri": "https://localhost:8080/"
        },
        "id": "-UMkIylB-xhG",
        "outputId": "2419c584-9f9c-4c54-f627-919a4ec60afe"
      },
      "execution_count": null,
      "outputs": [
        {
          "output_type": "stream",
          "name": "stdout",
          "text": [
            "Divisoin of the numbers: 2.3333333333333335\n"
          ]
        }
      ]
    },
    {
      "cell_type": "code",
      "source": [
        "# Below is the percentage of the 2 following numbers\n",
        "\"\"\"first number is 97 and second number is 39\"\"\"\n",
        "\n",
        "first_number = 97\n",
        "second_number = 39\n",
        "\n",
        "print(\"Remainder of the numbers:\", first_number % second_number)"
      ],
      "metadata": {
        "colab": {
          "base_uri": "https://localhost:8080/"
        },
        "id": "c6b_tnpj_aVp",
        "outputId": "c7ebcb2d-8443-4329-97bd-1c2c6d6350f3"
      },
      "execution_count": null,
      "outputs": [
        {
          "output_type": "stream",
          "name": "stdout",
          "text": [
            "Percentage of the numbers: 19\n"
          ]
        }
      ]
    },
    {
      "cell_type": "code",
      "source": [
        "# Menu prices:\n",
        "# \"Price of a Pizza\": 150,\n",
        "# \"Price of a Pasta\": 125,\n",
        "# \"Price of a Salad\": 80,\n",
        "# \"Price of a Soda\": 20\n",
        "\n",
        "\n",
        "bill = int(input(\"Enter bill amount:\"))\n",
        "discount_input = input(\"Enter discount percentage:\")\n",
        "\n",
        "# Remove the '%' symbol if it exists and convert to integer\n",
        "discount = int(discount_input.replace('%', ''))\n",
        "\n",
        "if 0 <= discount <= 100:\n",
        "  discounted_bill = bill - (bill * discount / 100)\n",
        "  print(\"After discount your bill is: \", discounted_bill)\n",
        "else:\n",
        "  print(\"Invalid discount percentage entered.\")"
      ],
      "metadata": {
        "colab": {
          "base_uri": "https://localhost:8080/"
        },
        "id": "fsp4Z8TMBZdP",
        "outputId": "d13fdf5b-817b-4511-b6d9-b08b382c34da"
      },
      "execution_count": null,
      "outputs": [
        {
          "output_type": "stream",
          "name": "stdout",
          "text": [
            "Enter bill amount:360\n",
            "Enter discount percentage:30\n",
            "After discount your bill is:  252.0\n"
          ]
        }
      ]
    },
    {
      "cell_type": "code",
      "source": [
        "a = float(input(\"Enter the first item:\"))\n",
        "b = float(input(\"Enter the second item:\"))\n",
        "c = float(input(\"Enter the third item:\"))\n",
        "discount = float(input(\"Enter the discount percentage:\"))\n",
        "bill = a + b + c\n",
        "print(\"Your bill is:\", bill)\n",
        "discounted_bill = bill - (a+b * discount / 100)\n",
        "print(\"After discount your bill is: \", discounted_bill)\n",
        "\n"
      ],
      "metadata": {
        "colab": {
          "base_uri": "https://localhost:8080/"
        },
        "id": "iehfF1-UGx_T",
        "outputId": "06c2bfc1-f6a5-485f-d3c4-327f473c4498"
      },
      "execution_count": null,
      "outputs": [
        {
          "output_type": "stream",
          "name": "stdout",
          "text": [
            "Enter the first item:165\n",
            "Enter the second item:230\n",
            "Enter the third item:200\n",
            "Enter the discount percentage:30\n",
            "Your bill is: 595.0\n",
            "After discount your bill is:  361.0\n"
          ]
        }
      ]
    },
    {
      "cell_type": "code",
      "source": [
        "a = float(input(\"Pizza:\"))\n",
        "b = float(input(\"Pasta:\"))\n",
        "c = float(input(\"Paneer Changezi:\"))\n",
        "d = float (input(\"Combo Offer, Coke and Fries:\"))\n",
        "price_person1 = float(input(\"Enter the price for person 1: \"))\n",
        "price_person2 = float(input(\"Enter the price for person 2: \"))\n",
        "discount = float(input(\"Enter the discount percentage:\"))\n",
        "bill = a + b + c\n",
        "print(\"Your bill is:\", bill)\n",
        "discounted_bill = bill - (bill * discount / 100)\n",
        "print(\"After discount your bill is: \", discounted_bill)\n"
      ],
      "metadata": {
        "colab": {
          "base_uri": "https://localhost:8080/"
        },
        "id": "Y7wWFtaxAH2z",
        "outputId": "b5ce82e2-3964-4131-9c9f-b8ed580221ca"
      },
      "execution_count": null,
      "outputs": [
        {
          "output_type": "stream",
          "name": "stdout",
          "text": [
            "Pizza:450\n",
            "Pasta:300\n",
            "Paneer Changezi:200\n",
            "Combo Offer, Coke and Fries:150\n",
            "Enter the price for person 1: 650\n",
            "Enter the price for person 2: 450\n",
            "Enter the discount percentage:25\n",
            "Your bill is: 950.0\n",
            "After discount your bill is:  712.5\n"
          ]
        }
      ]
    },
    {
      "cell_type": "code",
      "source": [
        "# Below is the code for total items in a cart, their latest prices and discounts\n",
        "a = float(input(\"Polo Shirts:\"))\n",
        "b = float(input(\"Nike Air Jordon:\"))\n",
        "c = float(input(\"Puma Trousers:\"))\n",
        "d = float(input(\"Adidas Tanktops:\"))\n",
        "e = float(input(\"Nike Shorts:\"))\n",
        "f = float(input(\"Oud Arabia:\"))\n",
        "g = float(input(\"Bella Vita Oud:\"))\n",
        "discount1 = float(input(\"Enter the discount percentage:\"))\n",
        "discount2 = float(input(\"Enter the discount percentage:\"))\n",
        "discount3 = float(input(\"Enter the discount percentage:\"))\n",
        "discount4 = float(input(\"Enter the discount percentage:\"))\n",
        "discount5 = float(input(\"Enter the discount percentage:\"))\n",
        "discount6 = float(input(\"Enter the discount percentage:\"))\n",
        "discount7 = float(input(\"Enter the discount percentage:\"))\n",
        "coupon = input(\"Enter the coupon code:\")\n",
        "bill = a + b + c + d + e + f + g\n",
        "discounted_bill = bill - (bill * discount1 / 100)\n",
        "print(\"After discount your bill is: \", discounted_bill)\n",
        "print(\"Your bill is:\", bill)\n",
        "\n",
        "# Address and Personal Information\n",
        "\n",
        "personal_info = {\n",
        "    \"Name\": \"Devesh Kashyap\",\n",
        "    \"Mobile Number\": \"6239887570\",\n",
        "    \"Address\": \"Ridhi Towers, Shivalik City, Kharar\",\n",
        "    \"Email\": \"devesh.kashyap@example.com\" # Added a placeholder email\n",
        "}\n",
        "\n",
        "print(\"--- Personal Information ---\")\n",
        "for key, value in personal_info.items():\n",
        "    print(f\"{key}: {value}\")\n"
      ],
      "metadata": {
        "colab": {
          "base_uri": "https://localhost:8080/"
        },
        "id": "7NoX75lVDY0R",
        "outputId": "6647f967-4724-498b-988a-da8b891bf960"
      },
      "execution_count": null,
      "outputs": [
        {
          "output_type": "stream",
          "name": "stdout",
          "text": [
            "Polo Shirts:3500\n",
            "Nike Air Jordon:9500\n",
            "Puma Trousers:4500\n",
            "Adidas Tanktops:2500\n",
            "Nike Shorts:2000\n",
            "Oud Arabia:6000\n",
            "Bella Vita Oud:500\n",
            "Enter the discount percentage:20\n",
            "Enter the discount percentage:25\n",
            "Enter the discount percentage:35\n",
            "Enter the discount percentage:70\n",
            "Enter the discount percentage:15\n",
            "Enter the discount percentage:40\n",
            "Enter the discount percentage:20\n",
            "Enter the coupon code:SHOP50\n",
            "After discount your bill is:  22800.0\n",
            "Your bill is: 28500.0\n",
            "--- Personal Information ---\n",
            "Name: Devesh Kashyap\n",
            "Mobile Number: 6239887570\n",
            "Address: Ridhi Towers, Shivalik City, Kharar\n",
            "Email: devesh.kashyap@example.com\n"
          ]
        }
      ]
    },
    {
      "cell_type": "code",
      "source": [
        "a = float(input(\"Pizza:\"))\n",
        "b = float(input(\"Pasta:\"))\n",
        "c = float(input(\"Paneer Changezi:\"))\n",
        "d = float (input(\"Combo Offer, Coke and Fries:\"))\n",
        "price_person1 = float(input(\"Enter the price for person 1: \"))\n",
        "price_person2 = float(input(\"Enter the price for person 2: \"))\n",
        "discount = float(input(\"Enter the discount percentage:\"))\n",
        "bill = a + b + c\n",
        "print(\"Your bill is:\", bill)\n",
        "discounted_bill = bill - (bill * discount / 100)\n",
        "print(\"After discount your bill is: \", discounted_bill)"
      ],
      "metadata": {
        "id": "fWIQWrakT1I5"
      },
      "execution_count": null,
      "outputs": []
    },
    {
      "cell_type": "code",
      "source": [
        "Days = \"Sunday\"\n",
        "\n",
        "if Days == \"Saturday\" or Days == \"Sunday\":\n",
        "  print(\"Weekend\")\n",
        "\n",
        "elif Days == \"Monday\" or Days == \"Tuesday\" or Days == \"Wednesday\" or Days == \"Thursday\" or Days == \"Friday\":\n",
        "  print(\"Weekday\")\n",
        "\n",
        "else:\n",
        "\n",
        "  print(\"Non-weekend day\")"
      ],
      "metadata": {
        "id": "ZqhwjzMaXWqu",
        "colab": {
          "base_uri": "https://localhost:8080/"
        },
        "outputId": "9d943261-6d40-4974-efb9-7e9422791bc8"
      },
      "execution_count": null,
      "outputs": [
        {
          "output_type": "stream",
          "name": "stdout",
          "text": [
            "Weekend\n"
          ]
        }
      ]
    },
    {
      "cell_type": "code",
      "source": [
        "def calculate_bill(price_person1, price_person2, discount_percentage):\n",
        "  \"\"\"Calculates the total bill before and after discount.\"\"\"\n",
        "  total_before_discount = price_person1 + price_person2\n",
        "  discount_amount = (total_before_discount * discount_percentage) / 100\n",
        "  total_after_discount = total_before_discount - discount_amount\n",
        "  return total_before_discount, discount_amount, total_after_discount\n",
        "\n",
        "# Get input from the user\n",
        "price_person1 = float(input(\"Enter the price for person 1: \"))\n",
        "price_person2 = float(input(\"Enter the price for person 2: \"))\n",
        "discount_percentage = float(input(\"Enter the discount percentage: \"))\n",
        "\n",
        "# Calculate the bill\n",
        "total_before_discount, discount_amount, total_after_discount = calculate_bill(\n",
        "    price_person1, price_person2, discount_percentage\n",
        ")\n",
        "\n",
        "# Display the results\n",
        "print(\"\\n--- Bill Details ---\")\n",
        "print(f\"Price for Person 1: Rs{price_person1:.2f}\")\n",
        "print(f\"Price for Person 2: Rs{price_person2:.2f}\")\n",
        "print(f\"Total bill before discount: Rs{total_before_discount:.2f}\")\n",
        "print(f\"Discount percentage applied: {discount_percentage:.2f}%\")\n",
        "print(f\"Discount amount: Rs{discount_amount:.2f}\")\n",
        "print(f\"Total bill after discount: Rs{total_after_discount:.2f}\")\n",
        "print(\"--------------------\")\n",
        "\n",
        "personal_info = {\n",
        "    \"Name\": \"Devesh Kashyap\",\n",
        "    \"Mobile Number\": \"6239887570\",\n",
        "    \"Address\": \"Ridhi Towers, Shivalik City, Kharar\",\n",
        "    \"Email\": \"devesh.kashyap@example.com\" # Added a placeholder email\n",
        "}\n",
        "\n",
        "print(\"--- Personal Information ---\")\n",
        "for key, value in personal_info.items():\n",
        "    print(f\"{key}: {value}\")"
      ],
      "metadata": {
        "colab": {
          "base_uri": "https://localhost:8080/"
        },
        "id": "4SGMDYAJAkLQ",
        "outputId": "ea494437-ae55-4355-f9e7-8156817ec70a"
      },
      "execution_count": null,
      "outputs": [
        {
          "output_type": "stream",
          "name": "stdout",
          "text": [
            "Enter the price for person 1: 500\n",
            "Enter the price for person 2: 420\n",
            "Enter the discount percentage: 25\n",
            "\n",
            "--- Bill Details ---\n",
            "Price for Person 1: Rs500.00\n",
            "Price for Person 2: Rs420.00\n",
            "Total bill before discount: Rs920.00\n",
            "Discount percentage applied: 25.00%\n",
            "Discount amount: Rs230.00\n",
            "Total bill after discount: Rs690.00\n",
            "--------------------\n",
            "--- Personal Information ---\n",
            "Name: Devesh Kashyap\n",
            "Mobile Number: 6239887570\n",
            "Address: Ridhi Towers, Shivalik City, Kharar\n",
            "Email: devesh.kashyap@example.com\n"
          ]
        }
      ]
    },
    {
      "cell_type": "code",
      "source": [
        "# Formula for Simple Interest: SI = (P * R * T) / 100\n",
        "# Where P = Principal Amount, R = Annual Interest Rate, T = Time in Years\n",
        "\n",
        "principal = float(input(\"Enter the principal amount: \"))\n",
        "annual_interest_rate = float(input(\"Enter the annual interest rate (%): \"))\n",
        "months = 205\n",
        "\n",
        "# Convert months to years\n",
        "time_in_years = months / 12\n",
        "\n",
        "simple_interest = (principal * annual_interest_rate * time_in_years) / 100\n",
        "\n",
        "print(f\"\\nPrincipal Amount: {principal:.2f}\")\n",
        "print(f\"Annual Interest Rate: {annual_interest_rate:.2f}%\")\n",
        "print(f\"Time Period: {months} months ({time_in_years:.2f} years)\")\n",
        "print(f\"Simple Interest: {simple_interest:.2f}\")"
      ],
      "metadata": {
        "id": "g4jSZdjgFZwX",
        "colab": {
          "base_uri": "https://localhost:8080/"
        },
        "outputId": "6096abfb-4320-4bea-a696-010850addcaf"
      },
      "execution_count": null,
      "outputs": [
        {
          "output_type": "stream",
          "name": "stdout",
          "text": [
            "Enter the principal amount: 20\n",
            "Enter the annual interest rate (%): 4\n",
            "\n",
            "Principal Amount: 20.00\n",
            "Annual Interest Rate: 4.00%\n",
            "Time Period: 205 months (17.08 years)\n",
            "Simple Interest: 13.67\n"
          ]
        }
      ]
    },
    {
      "cell_type": "code",
      "source": [
        "Day = input(\"Enter the name of the day \")\n",
        "if Day == \"Saturday\":\n",
        "  print(\"Weekend\")\n",
        "elif Day == \"Sunday\":\n",
        "  print(\"Weekend\")\n",
        "\n",
        "elif Day == \"Monday\" :\n",
        "  print(\"Weekday\")\n",
        "\n",
        "elif Day == \"Tuesday\" :\n",
        "  print(\"Weekday\")\n",
        "\n",
        "\n",
        "elif Day == \"Wednesday\" :\n",
        "  print(\"Weekday\")\n",
        "\n",
        "elif Day == \"Thursday\":\n",
        "  print(\"Weekday\")\n",
        "\n",
        "elif Day == \"Friday\":\n",
        "  print(\"Weekday\")\n"
      ],
      "metadata": {
        "colab": {
          "base_uri": "https://localhost:8080/"
        },
        "id": "chB18B_TRe5D",
        "outputId": "e46d833d-0dab-41c2-b474-15b6b6ccffdd"
      },
      "execution_count": null,
      "outputs": [
        {
          "output_type": "stream",
          "name": "stdout",
          "text": [
            "Enter the name of the day Sunday\n",
            "Weekend\n"
          ]
        }
      ]
    },
    {
      "cell_type": "code",
      "source": [
        "# Below is the code for total items in a cart, their latest prices and discounts\n",
        "a = float(input(\"Polo Shirts: \"))\n",
        "b = float(input(\"Nike Air Jordon: \"))\n",
        "c = float(input(\"Puma Trousers: \"))\n",
        "d = float(input(\"Adidas Tanktops: \"))\n",
        "e = float(input(\"Nike Shorts: \"))\n",
        "f = float(input(\"Oud Arabia: \"))\n",
        "g = float(input(\"Bella Vita Oud: \"))\n",
        "discount1 = float(input(\"Enter the discount percentage: \"))\n",
        "discount2 = float(input(\"Enter the discount percentage: \"))\n",
        "discount3 = float(input(\"Enter the discount percentage: \"))\n",
        "discount4 = float(input(\"Enter the discount percentage: \"))\n",
        "discount5 = float(input(\"Enter the discount percentage: \"))\n",
        "discount6 = float(input(\"Enter the discount percentage: \"))\n",
        "discount7 = float(input(\"Enter the discount percentage: \"))\n",
        "Coupon = \"SHOP50\"\n",
        "if Coupon == \"SHOP50\":\n",
        " print (\"Coupon is valid\")\n",
        "elif Coupon == \"SHOP100\":\n",
        " print (\"Coupon is not valid\")\n",
        "\n",
        "bill = a + b + c + d + e + f + g\n",
        "discounted_bill = bill - (bill * discount1/ 100)\n",
        "print(\"After discount your bill is: \", discounted_bill)\n",
        "print(\"Your bill is:\", bill)\n",
        "\n",
        "# Address and Personal Information\n",
        "\n",
        "personal_info = {\n",
        "    \"Name\": \"Devesh Kashyap\",\n",
        "    \"Mobile Number\": \"6239887570\",\n",
        "    \"Address\": \"Ridhi Towers, Shivalik City, Kharar\",\n",
        "    \"Email\": \"devesh.kashyap@example.com\"\n",
        "}\n",
        "\n",
        "print(\"--- Personal Information ---\")\n",
        "for key, value in personal_info.items():\n",
        "    print(f\"{key}: {value}\")"
      ],
      "metadata": {
        "colab": {
          "base_uri": "https://localhost:8080/"
        },
        "outputId": "a2e26a16-5445-4dc9-f339-62ac12ef4090",
        "id": "KTK8tdVaVHzw"
      },
      "execution_count": null,
      "outputs": [
        {
          "output_type": "stream",
          "name": "stdout",
          "text": [
            "Polo Shirts:3000\n",
            "Nike Air Jordon:9500\n",
            "Puma Trousers:4500\n",
            "Adidas Tanktops:2500\n",
            "Nike Shorts:2000\n",
            "Oud Arabia:5000\n",
            "Bella Vita Oud:500\n",
            "Enter the discount percentage:30\n",
            "Enter the discount percentage:25\n",
            "Enter the discount percentage:15\n",
            "Enter the discount percentage:45\n",
            "Enter the discount percentage:50\n",
            "Enter the discount percentage:20\n",
            "Enter the discount percentage:30\n",
            "Coupon is valid\n",
            "After discount your bill is:  18900.0\n",
            "Your bill is: 27000.0\n",
            "--- Personal Information ---\n",
            "Name: Devesh Kashyap\n",
            "Mobile Number: 6239887570\n",
            "Address: Ridhi Towers, Shivalik City, Kharar\n",
            "Email: devesh.kashyap@example.com\n"
          ]
        }
      ]
    },
    {
      "cell_type": "code",
      "source": [
        "a = float(input(\"Pizza:\"))\n",
        "b = float(input(\"Pasta:\"))\n",
        "c = float(input(\"Paneer Changezi:\"))\n",
        "d = float (input(\"Combo Offer, Coke and Fries:\"))\n",
        "price_person1 = float(input(\"Enter the price for person 1: \"))\n",
        "price_person2 = float(input(\"Enter the price for person 2: \"))\n",
        "discount = float(input(\"Enter the discount percentage:\"))\n",
        "Coupon = \"SHOP50\"\n",
        "if Coupon == \"SHOP50\":\n",
        " print (\"Coupon is valid\")\n",
        "elif Coupon == \"SHOP100\":\n",
        " print (\"Coupon is not valid\")\n",
        "bill = a + b + c\n",
        "print(\"Your bill is:\", bill)\n",
        "discounted_bill = bill - (bill * discount / 100)\n",
        "print(\"After discount your bill is: \", discounted_bill)\n",
        "\n",
        "# Adding more elif conditions (example)\n",
        "if bill > 1000:\n",
        "    print(\"You get a free dessert!\")\n",
        "elif bill > 500:\n",
        "    print(\"You get a free drink!\")\n",
        "elif bill > 200:\n",
        "    print(\"You get 10% off on your next visit!\")\n",
        "else:\n",
        "    print(\"Thank you for your order!\")"
      ],
      "metadata": {
        "id": "M6D5mnArblbH",
        "colab": {
          "base_uri": "https://localhost:8080/"
        },
        "outputId": "71269fdc-2aeb-447d-d737-2b533d04ad0b"
      },
      "execution_count": null,
      "outputs": [
        {
          "output_type": "stream",
          "name": "stdout",
          "text": [
            "Pizza:250\n",
            "Pasta:300\n",
            "Paneer Changezi:90\n",
            "Combo Offer, Coke and Fries:200\n",
            "Enter the price for person 1: 450\n",
            "Enter the price for person 2: 390\n",
            "Enter the discount percentage:10\n",
            "Coupon is valid\n",
            "Your bill is: 640.0\n",
            "After discount your bill is:  576.0\n",
            "You get a free drink!\n"
          ]
        }
      ]
    },
    {
      "cell_type": "code",
      "source": [
        "Gender = input(\"Enter your Gender \")\n",
        "Age = int(input(\" Enter your Age \"))\n",
        "\n",
        "if Gender == \"Male\" or Gender == \"Female\" :\n",
        "  if Gender == \"Male\":\n",
        "    print (\"Assigned to Building A\")\n",
        "    if Age >= 25:\n",
        "      print (\"Assigned to Block 1 in Building A\")\n",
        "    else :\n",
        "      print (\"Assigned to Block 2 in Building A\")\n",
        "\n",
        "  elif Gender == \"Female\" :\n",
        "    print (\"Assigned to Building B\")\n",
        "    if Age >= 25 :\n",
        "      print (\"Assigned to Block 1 in Building B\")\n",
        "    else :\n",
        "      print (\"Assigned to Block 2 in Building B\")\n",
        "\n",
        "else :\n",
        "  print (\"Invalid Gender entered.\")"
      ],
      "metadata": {
        "collapsed": true,
        "id": "puDBEaQysEyY",
        "colab": {
          "base_uri": "https://localhost:8080/"
        },
        "outputId": "a11f4d0b-7ea7-4517-e557-b318ce2216c7"
      },
      "execution_count": null,
      "outputs": [
        {
          "output_type": "stream",
          "name": "stdout",
          "text": [
            "Enter your Gender Male\n",
            " Enter your Age 21\n",
            "Assigned to Building A\n",
            "Assigned to Block 2 in Building A\n"
          ]
        }
      ]
    },
    {
      "cell_type": "code",
      "source": [
        "def check_hotels()\n",
        "Gender = input(\"Enter your Gender \")\n",
        "Age = int(input(\" Enter your Age \"))\n",
        "\n",
        "if Gender == \"Male\" or Gender == \"Female\" :\n",
        "  if Gender == \"Male\":\n",
        "    print (\"Assigned to Building A\")\n",
        "    if Age >= 25:\n",
        "      print (\"Assigned to Block 1 in Building A\")\n",
        "    else :\n",
        "      print (\"Assigned to Block 2 in Building A\")\n",
        "\n",
        "  elif Gender == \"Female\" :\n",
        "    print (\"Assigned to Building B\")\n",
        "    if Age >= 25 :\n",
        "      print (\"Assigned to Block 1 in Building B\")\n",
        "    else :\n",
        "      print (\"Assigned to Block 2 in Building B\")\n",
        "\n",
        "else :\n",
        "  print (\"Invalid Gender entered.\")\n",
        "\n",
        " return ''"
      ],
      "metadata": {
        "colab": {
          "base_uri": "https://localhost:8080/",
          "height": 110
        },
        "id": "nj6dh7tEwFxj",
        "outputId": "9dc07a25-bed1-48fb-c06b-1b39ea9d0e77"
      },
      "execution_count": null,
      "outputs": [
        {
          "output_type": "error",
          "ename": "IndentationError",
          "evalue": "unindent does not match any outer indentation level (<tokenize>, line 23)",
          "traceback": [
            "\u001b[0;36m  File \u001b[0;32m\"<tokenize>\"\u001b[0;36m, line \u001b[0;32m23\u001b[0m\n\u001b[0;31m    return ''\u001b[0m\n\u001b[0m    ^\u001b[0m\n\u001b[0;31mIndentationError\u001b[0m\u001b[0;31m:\u001b[0m unindent does not match any outer indentation level\n"
          ]
        }
      ]
    },
    {
      "cell_type": "code",
      "source": [
        "Gender = input(\"Enter your Gender (Male/Female): \")\n",
        "Age = int(input(\"Enter your Age: \"))\n",
        "\n",
        "if Gender == \"Female\":\n",
        "    print(\"You are allotted a seat in the Ladies coach.\")\n",
        "elif Gender == \"Male\" and Age >= 60:\n",
        "    print(\"You are allotted a seat in the Senior Citizen coach.\")\n",
        "elif Gender == \"Male\" and Age < 60:\n",
        "    print(\"You are allotted a seat in the General coach.\")\n",
        "else:\n",
        "    print(\"Invalid input. Please enter 'Male' or 'Female' for Gender.\")"
      ],
      "metadata": {
        "id": "8p4iFpgN2nh7",
        "colab": {
          "base_uri": "https://localhost:8080/"
        },
        "outputId": "8502682e-b4eb-43c7-ae50-b80f2fd886c8"
      },
      "execution_count": null,
      "outputs": [
        {
          "output_type": "stream",
          "name": "stdout",
          "text": [
            "Enter your Gender (Male/Female): Male\n",
            "Enter your Age: 68\n",
            "You are allotted a seat in the Senior Citizen coach.\n"
          ]
        }
      ]
    },
    {
      "cell_type": "code",
      "metadata": {
        "id": "482ff324",
        "colab": {
          "base_uri": "https://localhost:8080/"
        },
        "outputId": "bc7accb6-3fa1-4c87-9c35-73df03ed734b"
      },
      "source": [
        "# Following is a code to determine which year is a leap year and a non-leap year\n",
        "\n",
        "year = int(input(\"Enter a year: \"))\n",
        "\n",
        "if (year % 4 == 0 and year % 100 != 0) or (year % 400 == 0):\n",
        "  print(f\"{year} is a leap year.\")\n",
        "else:\n",
        "  print(f\"{year} is a non-leap year.\")"
      ],
      "execution_count": null,
      "outputs": [
        {
          "output_type": "stream",
          "name": "stdout",
          "text": [
            "Enter a year: 2019\n",
            "2019 is a non-leap year.\n"
          ]
        }
      ]
    },
    {
      "cell_type": "code",
      "source": [
        "principal = float(input(\"Enter the principal amount: \"))\n",
        "annual_interest_rate = float(input(\"Enter the annual interest rate (%): \"))\n",
        "month = input(\"Enter the month (e.g., January): \")\n",
        "\n",
        "days_in_months = {\"January\": 31, \"February\": 28,\"March\": 31,\"April\": 30,\"May\": 31,\"June\": 30,\"July\": 31,\"August\": 31,\"September\": 30,\"October\": 31,\"November\": 30,\"December\": 31}\n",
        "\n",
        "days_in_month = days_in_months.get(month, 0)\n",
        "\n",
        "if days_in_month == 0:\n",
        "    print(\"Invalid month entered. Assuming 0 days for calculation.\")\n",
        "    if month == \"February\":\n",
        "        days_in_month = 29\n",
        "\n",
        "days = int(input(\"Enter the number of extra days: \"))\n",
        "\n",
        "total_days = days_in_month + days\n",
        "\n",
        "time_in_years = total_days / 365\n",
        "simple_interest = (principal * annual_interest_rate * time_in_years) / 100\n",
        "\n",
        "print(f\"\\nPrincipal Amount: {principal:.2f}\")\n",
        "print(f\"Annual Interest Rate: {annual_interest_rate:.2f}%\")\n",
        "print(f\"Time Period: {days_in_month} days in {month} + {days} extra days ({total_days} total days, {time_in_years:.2f} years)\")\n",
        "print(f\"Simple Interest: {simple_interest:.2f}\")"
      ],
      "metadata": {
        "id": "_PpwBANOIAMS",
        "colab": {
          "base_uri": "https://localhost:8080/"
        },
        "outputId": "dad5e02c-d12c-43c1-c6a4-59cb0773d175"
      },
      "execution_count": null,
      "outputs": [
        {
          "output_type": "stream",
          "name": "stdout",
          "text": [
            "Enter the principal amount: 2000\n",
            "Enter the annual interest rate (%): 18\n",
            "Enter the month (e.g., January): February\n",
            "Enter the number of extra days: 1\n",
            "\n",
            "Principal Amount: 2000.00\n",
            "Annual Interest Rate: 18.00%\n",
            "Time Period: 28 days in February + 1 extra days (29 total days, 0.08 years)\n",
            "Simple Interest: 28.60\n"
          ]
        }
      ]
    },
    {
      "cell_type": "code",
      "source": [
        "principal = float(input(\"Enter the principal amount: \"))\n",
        "annual_interest_rate = float(input(\"Enter the annual interest rate (%): \"))\n",
        "month = input(\"Enter the month: \")\n",
        "\n",
        "days_in_months = {\"January\": 31, \"February\": 28,\"March\": 31,\"April\": 30,\"May\": 31,\"June\": 30,\"July\": 31,\"August\": 31,\"September\": 30,\"October\": 31,\"November\": 30,\"December\": 31}\n",
        "\n",
        "if days_in_month == 0:\n",
        "    print(\"Invalid month entered. Assuming 0 days for calculation.\")\n",
        "    if month == \"February\":\n",
        "        days_in_month = 29\n",
        "\n",
        "total_days = days_in_month + days\n",
        "\n",
        "time_in_years = total_days / 365\n",
        "compound_interest = principal * (1 + (annual_interest_rate / 100)) ** total_days - principal\n",
        "\n",
        "print(f\"\\nPrincipal Amount: {principal:.2f}\")\n",
        "print(f\"Annual Interest Rate: {annual_interest_rate:.2f}%\")\n",
        "print(f\"Time Period: {days_in_month} days in {month} + ({total_days} total days, {time_in_years:.2f} years)\")\n",
        "print(f\"Compound Interest: {compound_interest:.2f}\")"
      ],
      "metadata": {
        "colab": {
          "base_uri": "https://localhost:8080/"
        },
        "id": "m1NH1mzJ3fxh",
        "outputId": "b60fc54d-aee1-4604-eb59-425e6b002f07"
      },
      "execution_count": null,
      "outputs": [
        {
          "output_type": "stream",
          "name": "stdout",
          "text": [
            "Enter the principal amount: 5000\n",
            "Enter the annual interest rate (%): 20\n",
            "Enter the month: June\n",
            "\n",
            "Principal Amount: 5000.00\n",
            "Annual Interest Rate: 20.00%\n",
            "Time Period: 30 days in June + (30 total days, 0.08 years)\n",
            "Compound Interest: 1181881.57\n"
          ]
        }
      ]
    },
    {
      "cell_type": "code",
      "source": [
        "direction = input(\"Enter the direction of traffic (North Outgoing, North Incoming, South Outgoing, South Incoming, West Outgoing, West Incoming, East Outgoing, East Incoming): \")\n",
        "light_color = input(\"Enter the color of the traffic light (Red, Yellow, Green): \")\n",
        "\n",
        "if direction == \"North Outgoing\":\n",
        "  if light_color == \"Red\":\n",
        "    print(\"North Outgoing traffic: Stop!\")\n",
        "  elif light_color == \"Yellow\":\n",
        "    print(\"North Outgoing traffic: Prepare to stop.\")\n",
        "  elif light_color == \"Green\":\n",
        "    print(\"North Outgoing traffic: Go!\")\n",
        "  else:\n",
        "    print(\"Invalid light color entered for North Outgoing.\")\n",
        "\n",
        "elif direction == \"North Incoming\":\n",
        "  if light_color == \"Red\":\n",
        "    print(\"North Incoming traffic: Stop!\")\n",
        "  elif light_color == \"Yellow\":\n",
        "    print(\"North Incoming traffic: Prepare to stop.\")\n",
        "  elif light_color == \"Green\":\n",
        "    print(\"North Incoming traffic: Go!\")\n",
        "  else:\n",
        "    print(\"Invalid light color entered for North Incoming.\")\n",
        "\n",
        "elif direction == \"South Outgoing\":\n",
        "  if light_color == \"Red\":\n",
        "    print(\"South Outgoing traffic: Stop!\")\n",
        "  elif light_color == \"Yellow\":\n",
        "    print(\"South Outgoing traffic: Prepare to stop.\")\n",
        "  elif light_color == \"Green\":\n",
        "    print(\"South Outgoing traffic: Go!\")\n",
        "  else:\n",
        "    print(\"Invalid light color entered for South Outgoing.\")\n",
        "\n",
        "elif direction == \"South Incoming\":\n",
        "  if light_color == \"Red\":\n",
        "    print(\"South Incoming traffic: Stop!\")\n",
        "  elif light_color == \"Yellow\":\n",
        "    print(\"South Incoming traffic: Prepare to stop.\")\n",
        "  elif light_color == \"Green\":\n",
        "    print(\"South Incoming traffic: Go!\")\n",
        "  else:\n",
        "    print(\"Invalid light color entered for South Incoming.\")\n",
        "\n",
        "elif direction == \"West Outgoing\":\n",
        "  if light_color == \"Red\":\n",
        "    print(\"West Outgoing traffic: Stop!\")\n",
        "  elif light_color == \"Yellow\":\n",
        "    print(\"West Outgoing traffic: Prepare to stop.\")\n",
        "  elif light_color == \"Green\":\n",
        "    print(\"West Outgoing traffic: Go!\")\n",
        "  else:\n",
        "    print(\"Invalid light color entered for West Outgoing.\")\n",
        "\n",
        "elif direction == \"West Incoming\":\n",
        "  if light_color == \"Red\":\n",
        "    print(\"West Incoming traffic: Stop!\")\n",
        "  elif light_color == \"Yellow\":\n",
        "    print(\"West Incoming traffic: Prepare to stop.\")\n",
        "  elif light_color == \"Green\":\n",
        "    print(\"West Incoming traffic: Go!\")\n",
        "  else:\n",
        "    print(\"Invalid light color entered for West Incoming.\")\n",
        "\n",
        "elif direction == \"East Outgoing\":\n",
        "  if light_color == \"Red\":\n",
        "    print(\"East Outgoing traffic: Stop!\")\n",
        "  elif light_color == \"Yellow\":\n",
        "    print(\"East Outgoing traffic: Prepare to stop.\")\n",
        "  elif light_color == \"Green\":\n",
        "    print(\"East Outgoing traffic: Go!\")\n",
        "  else:\n",
        "    print(\"Invalid light color entered for East Outgoing.\")\n",
        "\n",
        "elif direction == \"East Incoming\":\n",
        "  if light_color == \"Red\":\n",
        "    print(\"East Incoming traffic: Stop!\")\n",
        "  elif light_color == \"Yellow\":\n",
        "    print(\"East Incoming traffic: Prepare to stop.\")\n",
        "  elif light_color == \"Green\":\n",
        "    print(\"East Incoming traffic: Go!\")\n",
        "  else:\n",
        "    print(\"Invalid light color entered for East Incoming.\")\n",
        "\n",
        "else:\n",
        "  print(\"Invalid direction entered.\")"
      ],
      "metadata": {
        "id": "Tz7o4hbd4KAi",
        "colab": {
          "base_uri": "https://localhost:8080/"
        },
        "outputId": "9a759eee-7c18-40eb-e195-8debe8a8351f"
      },
      "execution_count": null,
      "outputs": [
        {
          "output_type": "stream",
          "name": "stdout",
          "text": [
            "Enter the direction of traffic (North Outgoing, North Incoming, South Outgoing, South Incoming, West Outgoing, West Incoming, East Outgoing, East Incoming): North Incoming\n",
            "Enter the color of the traffic light (Red, Yellow, Green): Yellow\n",
            "North Incoming traffic: Prepare to stop.\n"
          ]
        }
      ]
    },
    {
      "cell_type": "code",
      "source": [
        "Sum = 0\n",
        "for i in range(1,10):\n",
        " Sum= Sum+i\n",
        " print(Sum)"
      ],
      "metadata": {
        "colab": {
          "base_uri": "https://localhost:8080/"
        },
        "id": "Y6cG1wm8BzL4",
        "outputId": "67f7c172-289e-4524-e8cd-3e6efc5100eb"
      },
      "execution_count": null,
      "outputs": [
        {
          "output_type": "stream",
          "name": "stdout",
          "text": [
            "1\n",
            "3\n",
            "6\n",
            "10\n",
            "15\n",
            "21\n",
            "28\n",
            "36\n",
            "45\n"
          ]
        }
      ]
    },
    {
      "cell_type": "code",
      "source": [
        "Sum = 10\n",
        "for i in range(1, 1001):\n",
        "  if i % 10 == 0:\n",
        "    print(f\"{i} is divisible by 10. Result of Sum / i: {Sum / i}\")\n",
        "  elif i % 25 == 0:\n",
        "    print(f\"{i} is divisible by 25. Result of Sum / i: {Sum / i}\")"
      ],
      "metadata": {
        "colab": {
          "base_uri": "https://localhost:8080/"
        },
        "id": "2TnaX3sXEvYH",
        "outputId": "deaae5db-d37e-4616-bedb-206dc7603d25"
      },
      "execution_count": null,
      "outputs": [
        {
          "output_type": "stream",
          "name": "stdout",
          "text": [
            "10 is divisible by 10. Result of Sum / i: 1.0\n",
            "20 is divisible by 10. Result of Sum / i: 0.5\n",
            "25 is divisible by 25. Result of Sum / i: 0.4\n",
            "30 is divisible by 10. Result of Sum / i: 0.3333333333333333\n",
            "40 is divisible by 10. Result of Sum / i: 0.25\n",
            "50 is divisible by 10. Result of Sum / i: 0.2\n",
            "60 is divisible by 10. Result of Sum / i: 0.16666666666666666\n",
            "70 is divisible by 10. Result of Sum / i: 0.14285714285714285\n",
            "75 is divisible by 25. Result of Sum / i: 0.13333333333333333\n",
            "80 is divisible by 10. Result of Sum / i: 0.125\n",
            "90 is divisible by 10. Result of Sum / i: 0.1111111111111111\n",
            "100 is divisible by 10. Result of Sum / i: 0.1\n",
            "110 is divisible by 10. Result of Sum / i: 0.09090909090909091\n",
            "120 is divisible by 10. Result of Sum / i: 0.08333333333333333\n",
            "125 is divisible by 25. Result of Sum / i: 0.08\n",
            "130 is divisible by 10. Result of Sum / i: 0.07692307692307693\n",
            "140 is divisible by 10. Result of Sum / i: 0.07142857142857142\n",
            "150 is divisible by 10. Result of Sum / i: 0.06666666666666667\n",
            "160 is divisible by 10. Result of Sum / i: 0.0625\n",
            "170 is divisible by 10. Result of Sum / i: 0.058823529411764705\n",
            "175 is divisible by 25. Result of Sum / i: 0.05714285714285714\n",
            "180 is divisible by 10. Result of Sum / i: 0.05555555555555555\n",
            "190 is divisible by 10. Result of Sum / i: 0.05263157894736842\n",
            "200 is divisible by 10. Result of Sum / i: 0.05\n",
            "210 is divisible by 10. Result of Sum / i: 0.047619047619047616\n",
            "220 is divisible by 10. Result of Sum / i: 0.045454545454545456\n",
            "225 is divisible by 25. Result of Sum / i: 0.044444444444444446\n",
            "230 is divisible by 10. Result of Sum / i: 0.043478260869565216\n",
            "240 is divisible by 10. Result of Sum / i: 0.041666666666666664\n",
            "250 is divisible by 10. Result of Sum / i: 0.04\n",
            "260 is divisible by 10. Result of Sum / i: 0.038461538461538464\n",
            "270 is divisible by 10. Result of Sum / i: 0.037037037037037035\n",
            "275 is divisible by 25. Result of Sum / i: 0.03636363636363636\n",
            "280 is divisible by 10. Result of Sum / i: 0.03571428571428571\n",
            "290 is divisible by 10. Result of Sum / i: 0.034482758620689655\n",
            "300 is divisible by 10. Result of Sum / i: 0.03333333333333333\n",
            "310 is divisible by 10. Result of Sum / i: 0.03225806451612903\n",
            "320 is divisible by 10. Result of Sum / i: 0.03125\n",
            "325 is divisible by 25. Result of Sum / i: 0.03076923076923077\n",
            "330 is divisible by 10. Result of Sum / i: 0.030303030303030304\n",
            "340 is divisible by 10. Result of Sum / i: 0.029411764705882353\n",
            "350 is divisible by 10. Result of Sum / i: 0.02857142857142857\n",
            "360 is divisible by 10. Result of Sum / i: 0.027777777777777776\n",
            "370 is divisible by 10. Result of Sum / i: 0.02702702702702703\n",
            "375 is divisible by 25. Result of Sum / i: 0.02666666666666667\n",
            "380 is divisible by 10. Result of Sum / i: 0.02631578947368421\n",
            "390 is divisible by 10. Result of Sum / i: 0.02564102564102564\n",
            "400 is divisible by 10. Result of Sum / i: 0.025\n",
            "410 is divisible by 10. Result of Sum / i: 0.024390243902439025\n",
            "420 is divisible by 10. Result of Sum / i: 0.023809523809523808\n",
            "425 is divisible by 25. Result of Sum / i: 0.023529411764705882\n",
            "430 is divisible by 10. Result of Sum / i: 0.023255813953488372\n",
            "440 is divisible by 10. Result of Sum / i: 0.022727272727272728\n",
            "450 is divisible by 10. Result of Sum / i: 0.022222222222222223\n",
            "460 is divisible by 10. Result of Sum / i: 0.021739130434782608\n",
            "470 is divisible by 10. Result of Sum / i: 0.02127659574468085\n",
            "475 is divisible by 25. Result of Sum / i: 0.021052631578947368\n",
            "480 is divisible by 10. Result of Sum / i: 0.020833333333333332\n",
            "490 is divisible by 10. Result of Sum / i: 0.02040816326530612\n",
            "500 is divisible by 10. Result of Sum / i: 0.02\n",
            "510 is divisible by 10. Result of Sum / i: 0.0196078431372549\n",
            "520 is divisible by 10. Result of Sum / i: 0.019230769230769232\n",
            "525 is divisible by 25. Result of Sum / i: 0.01904761904761905\n",
            "530 is divisible by 10. Result of Sum / i: 0.018867924528301886\n",
            "540 is divisible by 10. Result of Sum / i: 0.018518518518518517\n",
            "550 is divisible by 10. Result of Sum / i: 0.01818181818181818\n",
            "560 is divisible by 10. Result of Sum / i: 0.017857142857142856\n",
            "570 is divisible by 10. Result of Sum / i: 0.017543859649122806\n",
            "575 is divisible by 25. Result of Sum / i: 0.017391304347826087\n",
            "580 is divisible by 10. Result of Sum / i: 0.017241379310344827\n",
            "590 is divisible by 10. Result of Sum / i: 0.01694915254237288\n",
            "600 is divisible by 10. Result of Sum / i: 0.016666666666666666\n",
            "610 is divisible by 10. Result of Sum / i: 0.01639344262295082\n",
            "620 is divisible by 10. Result of Sum / i: 0.016129032258064516\n",
            "625 is divisible by 25. Result of Sum / i: 0.016\n",
            "630 is divisible by 10. Result of Sum / i: 0.015873015873015872\n",
            "640 is divisible by 10. Result of Sum / i: 0.015625\n",
            "650 is divisible by 10. Result of Sum / i: 0.015384615384615385\n",
            "660 is divisible by 10. Result of Sum / i: 0.015151515151515152\n",
            "670 is divisible by 10. Result of Sum / i: 0.014925373134328358\n",
            "675 is divisible by 25. Result of Sum / i: 0.014814814814814815\n",
            "680 is divisible by 10. Result of Sum / i: 0.014705882352941176\n",
            "690 is divisible by 10. Result of Sum / i: 0.014492753623188406\n",
            "700 is divisible by 10. Result of Sum / i: 0.014285714285714285\n",
            "710 is divisible by 10. Result of Sum / i: 0.014084507042253521\n",
            "720 is divisible by 10. Result of Sum / i: 0.013888888888888888\n",
            "725 is divisible by 25. Result of Sum / i: 0.013793103448275862\n",
            "730 is divisible by 10. Result of Sum / i: 0.0136986301369863\n",
            "740 is divisible by 10. Result of Sum / i: 0.013513513513513514\n",
            "750 is divisible by 10. Result of Sum / i: 0.013333333333333334\n",
            "760 is divisible by 10. Result of Sum / i: 0.013157894736842105\n",
            "770 is divisible by 10. Result of Sum / i: 0.012987012987012988\n",
            "775 is divisible by 25. Result of Sum / i: 0.012903225806451613\n",
            "780 is divisible by 10. Result of Sum / i: 0.01282051282051282\n",
            "790 is divisible by 10. Result of Sum / i: 0.012658227848101266\n",
            "800 is divisible by 10. Result of Sum / i: 0.0125\n",
            "810 is divisible by 10. Result of Sum / i: 0.012345679012345678\n",
            "820 is divisible by 10. Result of Sum / i: 0.012195121951219513\n",
            "825 is divisible by 25. Result of Sum / i: 0.012121212121212121\n",
            "830 is divisible by 10. Result of Sum / i: 0.012048192771084338\n",
            "840 is divisible by 10. Result of Sum / i: 0.011904761904761904\n",
            "850 is divisible by 10. Result of Sum / i: 0.011764705882352941\n",
            "860 is divisible by 10. Result of Sum / i: 0.011627906976744186\n",
            "870 is divisible by 10. Result of Sum / i: 0.011494252873563218\n",
            "875 is divisible by 25. Result of Sum / i: 0.011428571428571429\n",
            "880 is divisible by 10. Result of Sum / i: 0.011363636363636364\n",
            "890 is divisible by 10. Result of Sum / i: 0.011235955056179775\n",
            "900 is divisible by 10. Result of Sum / i: 0.011111111111111112\n",
            "910 is divisible by 10. Result of Sum / i: 0.01098901098901099\n",
            "920 is divisible by 10. Result of Sum / i: 0.010869565217391304\n",
            "925 is divisible by 25. Result of Sum / i: 0.010810810810810811\n",
            "930 is divisible by 10. Result of Sum / i: 0.010752688172043012\n",
            "940 is divisible by 10. Result of Sum / i: 0.010638297872340425\n",
            "950 is divisible by 10. Result of Sum / i: 0.010526315789473684\n",
            "960 is divisible by 10. Result of Sum / i: 0.010416666666666666\n",
            "970 is divisible by 10. Result of Sum / i: 0.010309278350515464\n",
            "975 is divisible by 25. Result of Sum / i: 0.010256410256410256\n",
            "980 is divisible by 10. Result of Sum / i: 0.01020408163265306\n",
            "990 is divisible by 10. Result of Sum / i: 0.010101010101010102\n",
            "1000 is divisible by 10. Result of Sum / i: 0.01\n"
          ]
        }
      ]
    },
    {
      "cell_type": "code",
      "source": [
        "for number in range(1, 101):\n",
        "  if number % 2 == 0:\n",
        "    print(number)"
      ],
      "metadata": {
        "colab": {
          "base_uri": "https://localhost:8080/"
        },
        "id": "lg9-QCIjRiKd",
        "outputId": "61e84ad9-9583-4e28-e6b7-08130a611f9e"
      },
      "execution_count": null,
      "outputs": [
        {
          "output_type": "stream",
          "name": "stdout",
          "text": [
            "2\n",
            "4\n",
            "6\n",
            "8\n",
            "10\n",
            "12\n",
            "14\n",
            "16\n",
            "18\n",
            "20\n",
            "22\n",
            "24\n",
            "26\n",
            "28\n",
            "30\n",
            "32\n",
            "34\n",
            "36\n",
            "38\n",
            "40\n",
            "42\n",
            "44\n",
            "46\n",
            "48\n",
            "50\n",
            "52\n",
            "54\n",
            "56\n",
            "58\n",
            "60\n",
            "62\n",
            "64\n",
            "66\n",
            "68\n",
            "70\n",
            "72\n",
            "74\n",
            "76\n",
            "78\n",
            "80\n",
            "82\n",
            "84\n",
            "86\n",
            "88\n",
            "90\n",
            "92\n",
            "94\n",
            "96\n",
            "98\n",
            "100\n"
          ]
        }
      ]
    },
    {
      "cell_type": "code",
      "source": [
        "for number in range(1, 101):\n",
        "  if number % 2 != 0:\n",
        "    print(number)"
      ],
      "metadata": {
        "colab": {
          "base_uri": "https://localhost:8080/"
        },
        "id": "GflIAbaRSuam",
        "outputId": "1430d21c-6768-4a59-e097-6fe51863ea79"
      },
      "execution_count": null,
      "outputs": [
        {
          "output_type": "stream",
          "name": "stdout",
          "text": [
            "1\n",
            "3\n",
            "5\n",
            "7\n",
            "9\n",
            "11\n",
            "13\n",
            "15\n",
            "17\n",
            "19\n",
            "21\n",
            "23\n",
            "25\n",
            "27\n",
            "29\n",
            "31\n",
            "33\n",
            "35\n",
            "37\n",
            "39\n",
            "41\n",
            "43\n",
            "45\n",
            "47\n",
            "49\n",
            "51\n",
            "53\n",
            "55\n",
            "57\n",
            "59\n",
            "61\n",
            "63\n",
            "65\n",
            "67\n",
            "69\n",
            "71\n",
            "73\n",
            "75\n",
            "77\n",
            "79\n",
            "81\n",
            "83\n",
            "85\n",
            "87\n",
            "89\n",
            "91\n",
            "93\n",
            "95\n",
            "97\n",
            "99\n"
          ]
        }
      ]
    },
    {
      "cell_type": "code",
      "source": [
        "Sum = 25\n",
        "Sum = 30\n",
        "for i in range(1, 1001):\n",
        "  if i % 25 == 0:\n",
        "    print(f\"{i} is divisible by 25. Result of Sum / i: {Sum / i}\")\n",
        "  elif i % 30 == 0:\n",
        "    print(f\"{i} is divisible by 30. Result of Sum / i: {Sum / i}\")"
      ],
      "metadata": {
        "colab": {
          "base_uri": "https://localhost:8080/"
        },
        "id": "Bs8ev0myOrah",
        "outputId": "d45dc727-2a66-459a-8851-e50dd0ea9dcb"
      },
      "execution_count": null,
      "outputs": [
        {
          "output_type": "stream",
          "name": "stdout",
          "text": [
            "25 is divisible by 25. Result of Sum / i: 1.2\n",
            "30 is divisible by 30. Result of Sum / i: 1.0\n",
            "50 is divisible by 25. Result of Sum / i: 0.6\n",
            "60 is divisible by 30. Result of Sum / i: 0.5\n",
            "75 is divisible by 25. Result of Sum / i: 0.4\n",
            "90 is divisible by 30. Result of Sum / i: 0.3333333333333333\n",
            "100 is divisible by 25. Result of Sum / i: 0.3\n",
            "120 is divisible by 30. Result of Sum / i: 0.25\n",
            "125 is divisible by 25. Result of Sum / i: 0.24\n",
            "150 is divisible by 25. Result of Sum / i: 0.2\n",
            "175 is divisible by 25. Result of Sum / i: 0.17142857142857143\n",
            "180 is divisible by 30. Result of Sum / i: 0.16666666666666666\n",
            "200 is divisible by 25. Result of Sum / i: 0.15\n",
            "210 is divisible by 30. Result of Sum / i: 0.14285714285714285\n",
            "225 is divisible by 25. Result of Sum / i: 0.13333333333333333\n",
            "240 is divisible by 30. Result of Sum / i: 0.125\n",
            "250 is divisible by 25. Result of Sum / i: 0.12\n",
            "270 is divisible by 30. Result of Sum / i: 0.1111111111111111\n",
            "275 is divisible by 25. Result of Sum / i: 0.10909090909090909\n",
            "300 is divisible by 25. Result of Sum / i: 0.1\n",
            "325 is divisible by 25. Result of Sum / i: 0.09230769230769231\n",
            "330 is divisible by 30. Result of Sum / i: 0.09090909090909091\n",
            "350 is divisible by 25. Result of Sum / i: 0.08571428571428572\n",
            "360 is divisible by 30. Result of Sum / i: 0.08333333333333333\n",
            "375 is divisible by 25. Result of Sum / i: 0.08\n",
            "390 is divisible by 30. Result of Sum / i: 0.07692307692307693\n",
            "400 is divisible by 25. Result of Sum / i: 0.075\n",
            "420 is divisible by 30. Result of Sum / i: 0.07142857142857142\n",
            "425 is divisible by 25. Result of Sum / i: 0.07058823529411765\n",
            "450 is divisible by 25. Result of Sum / i: 0.06666666666666667\n",
            "475 is divisible by 25. Result of Sum / i: 0.06315789473684211\n",
            "480 is divisible by 30. Result of Sum / i: 0.0625\n",
            "500 is divisible by 25. Result of Sum / i: 0.06\n",
            "510 is divisible by 30. Result of Sum / i: 0.058823529411764705\n",
            "525 is divisible by 25. Result of Sum / i: 0.05714285714285714\n",
            "540 is divisible by 30. Result of Sum / i: 0.05555555555555555\n",
            "550 is divisible by 25. Result of Sum / i: 0.05454545454545454\n",
            "570 is divisible by 30. Result of Sum / i: 0.05263157894736842\n",
            "575 is divisible by 25. Result of Sum / i: 0.05217391304347826\n",
            "600 is divisible by 25. Result of Sum / i: 0.05\n",
            "625 is divisible by 25. Result of Sum / i: 0.048\n",
            "630 is divisible by 30. Result of Sum / i: 0.047619047619047616\n",
            "650 is divisible by 25. Result of Sum / i: 0.046153846153846156\n",
            "660 is divisible by 30. Result of Sum / i: 0.045454545454545456\n",
            "675 is divisible by 25. Result of Sum / i: 0.044444444444444446\n",
            "690 is divisible by 30. Result of Sum / i: 0.043478260869565216\n",
            "700 is divisible by 25. Result of Sum / i: 0.04285714285714286\n",
            "720 is divisible by 30. Result of Sum / i: 0.041666666666666664\n",
            "725 is divisible by 25. Result of Sum / i: 0.041379310344827586\n",
            "750 is divisible by 25. Result of Sum / i: 0.04\n",
            "775 is divisible by 25. Result of Sum / i: 0.03870967741935484\n",
            "780 is divisible by 30. Result of Sum / i: 0.038461538461538464\n",
            "800 is divisible by 25. Result of Sum / i: 0.0375\n",
            "810 is divisible by 30. Result of Sum / i: 0.037037037037037035\n",
            "825 is divisible by 25. Result of Sum / i: 0.03636363636363636\n",
            "840 is divisible by 30. Result of Sum / i: 0.03571428571428571\n",
            "850 is divisible by 25. Result of Sum / i: 0.03529411764705882\n",
            "870 is divisible by 30. Result of Sum / i: 0.034482758620689655\n",
            "875 is divisible by 25. Result of Sum / i: 0.03428571428571429\n",
            "900 is divisible by 25. Result of Sum / i: 0.03333333333333333\n",
            "925 is divisible by 25. Result of Sum / i: 0.032432432432432434\n",
            "930 is divisible by 30. Result of Sum / i: 0.03225806451612903\n",
            "950 is divisible by 25. Result of Sum / i: 0.031578947368421054\n",
            "960 is divisible by 30. Result of Sum / i: 0.03125\n",
            "975 is divisible by 25. Result of Sum / i: 0.03076923076923077\n",
            "990 is divisible by 30. Result of Sum / i: 0.030303030303030304\n",
            "1000 is divisible by 25. Result of Sum / i: 0.03\n"
          ]
        }
      ]
    },
    {
      "cell_type": "code",
      "source": [
        "Pizza = 500\n",
        "Burger = 150\n",
        "Cake = 650\n",
        "for i in range(1,10):\n",
        " print(Cake,Burger,Pizza)"
      ],
      "metadata": {
        "colab": {
          "base_uri": "https://localhost:8080/"
        },
        "id": "thWwUctCZq4g",
        "outputId": "846191e6-6747-4baf-df0a-fac26b9a9879"
      },
      "execution_count": null,
      "outputs": [
        {
          "output_type": "stream",
          "name": "stdout",
          "text": [
            "650 150 500\n",
            "650 150 500\n",
            "650 150 500\n",
            "650 150 500\n",
            "650 150 500\n",
            "650 150 500\n",
            "650 150 500\n",
            "650 150 500\n",
            "650 150 500\n"
          ]
        }
      ]
    },
    {
      "cell_type": "code",
      "source": [
        "n = 5\n",
        "while n > 0:\n",
        "  print(n)\n",
        "  n = n - 1"
      ],
      "metadata": {
        "id": "BgIH4THacWK-",
        "colab": {
          "base_uri": "https://localhost:8080/"
        },
        "outputId": "5c46ca31-b1ad-4aff-dd3b-46fdbb89327c"
      },
      "execution_count": null,
      "outputs": [
        {
          "output_type": "stream",
          "name": "stdout",
          "text": [
            "5\n",
            "4\n",
            "3\n",
            "2\n",
            "1\n"
          ]
        }
      ]
    },
    {
      "cell_type": "code",
      "source": [
        "n = 15\n",
        "while n < 30 :\n",
        "  print(n)\n",
        "  n = n + 2"
      ],
      "metadata": {
        "colab": {
          "base_uri": "https://localhost:8080/"
        },
        "id": "Ffa5p4ns07_9",
        "outputId": "7eb656c7-87f6-4555-f954-2bc9121fd4f0"
      },
      "execution_count": null,
      "outputs": [
        {
          "output_type": "stream",
          "name": "stdout",
          "text": [
            "15\n",
            "17\n",
            "19\n",
            "21\n",
            "23\n",
            "25\n",
            "27\n",
            "29\n"
          ]
        }
      ]
    },
    {
      "cell_type": "code",
      "source": [
        "a, b = 0, 1\n",
        "limit = 11\n",
        "\n",
        "for _ in range(limit):\n",
        "    print(a)\n",
        "    fib = a + b\n",
        "    a = b\n",
        "    b = fib"
      ],
      "metadata": {
        "colab": {
          "base_uri": "https://localhost:8080/"
        },
        "outputId": "5fab7bf6-083a-412c-fa44-ad2587977a6e",
        "id": "344FImmU4ztn"
      },
      "execution_count": null,
      "outputs": [
        {
          "output_type": "stream",
          "name": "stdout",
          "text": [
            "0\n",
            "1\n",
            "1\n",
            "2\n",
            "3\n",
            "5\n",
            "8\n",
            "13\n",
            "21\n",
            "34\n",
            "55\n"
          ]
        }
      ]
    },
    {
      "cell_type": "code",
      "source": [
        "a, b = 0, 1\n",
        "first_number = 0\n",
        "limit = 11\n",
        "\n",
        "while first_number < limit:\n",
        "  print(a)\n",
        "  fib = a + b\n",
        "  a = b\n",
        "  b = fib\n",
        "  first_number += 1"
      ],
      "metadata": {
        "colab": {
          "base_uri": "https://localhost:8080/"
        },
        "id": "V1EqN2zy4rVN",
        "outputId": "49a2a520-e218-4318-878f-26c780d60a98"
      },
      "execution_count": null,
      "outputs": [
        {
          "output_type": "stream",
          "name": "stdout",
          "text": [
            "0\n",
            "1\n",
            "1\n",
            "2\n",
            "3\n",
            "5\n",
            "8\n",
            "13\n",
            "21\n",
            "34\n",
            "55\n"
          ]
        }
      ]
    },
    {
      "cell_type": "code",
      "source": [
        "num = 56678\n",
        "sum = 0\n",
        "while(num>0):\n",
        "  dig = num%10\n",
        "  sum = sum + (dig*dig)\n",
        "  num = num//10\n",
        "\n",
        "print(sum)"
      ],
      "metadata": {
        "colab": {
          "base_uri": "https://localhost:8080/"
        },
        "id": "qfcI-AMF_Zu_",
        "outputId": "f88a337b-d2f0-4261-a9cd-0e6c563f1634"
      },
      "execution_count": null,
      "outputs": [
        {
          "output_type": "stream",
          "name": "stdout",
          "text": [
            "210\n"
          ]
        }
      ]
    },
    {
      "cell_type": "code",
      "source": [
        "num = 64732\n",
        "sum = 0\n",
        "while(num>0):\n",
        "  dig = num%10\n",
        "  sum = sum + (dig*dig)\n",
        "  num = num//10\n",
        "\n",
        "print(sum)"
      ],
      "metadata": {
        "id": "uBpuQfdMDBtr",
        "colab": {
          "base_uri": "https://localhost:8080/"
        },
        "outputId": "0e6b2289-96b9-429d-dbca-6935eb9b8c7d"
      },
      "execution_count": null,
      "outputs": [
        {
          "output_type": "stream",
          "name": "stdout",
          "text": [
            "114\n"
          ]
        }
      ]
    },
    {
      "cell_type": "code",
      "source": [
        "a = 20\n",
        "b = 3\n",
        "round(20/3)"
      ],
      "metadata": {
        "colab": {
          "base_uri": "https://localhost:8080/"
        },
        "id": "bAPwpV135Ykk",
        "outputId": "61cce281-4455-4b32-cc78-e6e532603f1c"
      },
      "execution_count": null,
      "outputs": [
        {
          "output_type": "execute_result",
          "data": {
            "text/plain": [
              "7"
            ]
          },
          "metadata": {},
          "execution_count": 10
        }
      ]
    },
    {
      "cell_type": "markdown",
      "source": [
        "round(a/b)"
      ],
      "metadata": {
        "id": "3xWTczbe7Nq7"
      }
    },
    {
      "cell_type": "code",
      "source": [
        "num = 56892\n",
        "sum = 0\n",
        "while(num>0):\n",
        "  dig = num%10\n",
        "  sum = sum*10 + dig\n",
        "  num = num//10\n",
        "\n",
        "print(sum)"
      ],
      "metadata": {
        "colab": {
          "base_uri": "https://localhost:8080/"
        },
        "id": "ewSkPE_S7Lq3",
        "outputId": "49178024-11a6-48d0-9734-a3cd4cb6814a"
      },
      "execution_count": null,
      "outputs": [
        {
          "output_type": "stream",
          "name": "stdout",
          "text": [
            "29865\n"
          ]
        }
      ]
    },
    {
      "cell_type": "code",
      "source": [
        "num = 12345\n",
        "reversed_num = 0\n",
        "while num > 0:\n",
        "  dig = num % 10\n",
        "  if dig >= 0:\n",
        "    reversed_num = reversed_num * 10 + dig\n",
        "  num = num // 10\n",
        "\n",
        "print(reversed_num)"
      ],
      "metadata": {
        "colab": {
          "base_uri": "https://localhost:8080/"
        },
        "id": "_uDMgYmKDJ7v",
        "outputId": "2ec6efa2-ea53-441b-9a29-9e63350bbada"
      },
      "execution_count": null,
      "outputs": [
        {
          "output_type": "stream",
          "name": "stdout",
          "text": [
            "54321\n"
          ]
        }
      ]
    },
    {
      "cell_type": "code",
      "source": [
        "print(\"Prime numbers from 1 to 100:\")\n",
        "\n",
        "for number in range(2, 101):\n",
        "  is_prime = True\n",
        "  divisor = 2\n",
        "  while divisor * divisor <= number:\n",
        "    if number % divisor == 0:\n",
        "      is_prime = False\n",
        "      break\n",
        "    divisor += 1\n",
        "  if is_prime:\n",
        "    print(number)"
      ],
      "metadata": {
        "colab": {
          "base_uri": "https://localhost:8080/"
        },
        "id": "RXPlkAq0D8Jr",
        "outputId": "be0a8760-21b7-46f9-df15-91dfe736046b"
      },
      "execution_count": null,
      "outputs": [
        {
          "output_type": "stream",
          "name": "stdout",
          "text": [
            "Prime numbers from 1 to 100:\n",
            "2\n",
            "3\n",
            "5\n",
            "7\n",
            "11\n",
            "13\n",
            "17\n",
            "19\n",
            "23\n",
            "29\n",
            "31\n",
            "37\n",
            "41\n",
            "43\n",
            "47\n",
            "53\n",
            "59\n",
            "61\n",
            "67\n",
            "71\n",
            "73\n",
            "79\n",
            "83\n",
            "89\n",
            "97\n"
          ]
        }
      ]
    },
    {
      "cell_type": "code",
      "source": [
        "print(\"Factorials from 1 to 100:\")\n",
        "\n",
        "factorial = 1\n",
        "for i in range(1, 101):\n",
        "  factorial *= i\n",
        "  print(f\"The factorial of {i} is: {factorial}\")"
      ],
      "metadata": {
        "colab": {
          "base_uri": "https://localhost:8080/"
        },
        "id": "Nln1kLXaJXXp",
        "outputId": "49df50ff-5e28-404c-bf31-0e05a46bb5df"
      },
      "execution_count": null,
      "outputs": [
        {
          "output_type": "stream",
          "name": "stdout",
          "text": [
            "Factorials from 1 to 100:\n",
            "The factorial of 1 is: 1\n",
            "The factorial of 2 is: 2\n",
            "The factorial of 3 is: 6\n",
            "The factorial of 4 is: 24\n",
            "The factorial of 5 is: 120\n",
            "The factorial of 6 is: 720\n",
            "The factorial of 7 is: 5040\n",
            "The factorial of 8 is: 40320\n",
            "The factorial of 9 is: 362880\n",
            "The factorial of 10 is: 3628800\n",
            "The factorial of 11 is: 39916800\n",
            "The factorial of 12 is: 479001600\n",
            "The factorial of 13 is: 6227020800\n",
            "The factorial of 14 is: 87178291200\n",
            "The factorial of 15 is: 1307674368000\n",
            "The factorial of 16 is: 20922789888000\n",
            "The factorial of 17 is: 355687428096000\n",
            "The factorial of 18 is: 6402373705728000\n",
            "The factorial of 19 is: 121645100408832000\n",
            "The factorial of 20 is: 2432902008176640000\n",
            "The factorial of 21 is: 51090942171709440000\n",
            "The factorial of 22 is: 1124000727777607680000\n",
            "The factorial of 23 is: 25852016738884976640000\n",
            "The factorial of 24 is: 620448401733239439360000\n",
            "The factorial of 25 is: 15511210043330985984000000\n",
            "The factorial of 26 is: 403291461126605635584000000\n",
            "The factorial of 27 is: 10888869450418352160768000000\n",
            "The factorial of 28 is: 304888344611713860501504000000\n",
            "The factorial of 29 is: 8841761993739701954543616000000\n",
            "The factorial of 30 is: 265252859812191058636308480000000\n",
            "The factorial of 31 is: 8222838654177922817725562880000000\n",
            "The factorial of 32 is: 263130836933693530167218012160000000\n",
            "The factorial of 33 is: 8683317618811886495518194401280000000\n",
            "The factorial of 34 is: 295232799039604140847618609643520000000\n",
            "The factorial of 35 is: 10333147966386144929666651337523200000000\n",
            "The factorial of 36 is: 371993326789901217467999448150835200000000\n",
            "The factorial of 37 is: 13763753091226345046315979581580902400000000\n",
            "The factorial of 38 is: 523022617466601111760007224100074291200000000\n",
            "The factorial of 39 is: 20397882081197443358640281739902897356800000000\n",
            "The factorial of 40 is: 815915283247897734345611269596115894272000000000\n",
            "The factorial of 41 is: 33452526613163807108170062053440751665152000000000\n",
            "The factorial of 42 is: 1405006117752879898543142606244511569936384000000000\n",
            "The factorial of 43 is: 60415263063373835637355132068513997507264512000000000\n",
            "The factorial of 44 is: 2658271574788448768043625811014615890319638528000000000\n",
            "The factorial of 45 is: 119622220865480194561963161495657715064383733760000000000\n",
            "The factorial of 46 is: 5502622159812088949850305428800254892961651752960000000000\n",
            "The factorial of 47 is: 258623241511168180642964355153611979969197632389120000000000\n",
            "The factorial of 48 is: 12413915592536072670862289047373375038521486354677760000000000\n",
            "The factorial of 49 is: 608281864034267560872252163321295376887552831379210240000000000\n",
            "The factorial of 50 is: 30414093201713378043612608166064768844377641568960512000000000000\n",
            "The factorial of 51 is: 1551118753287382280224243016469303211063259720016986112000000000000\n",
            "The factorial of 52 is: 80658175170943878571660636856403766975289505440883277824000000000000\n",
            "The factorial of 53 is: 4274883284060025564298013753389399649690343788366813724672000000000000\n",
            "The factorial of 54 is: 230843697339241380472092742683027581083278564571807941132288000000000000\n",
            "The factorial of 55 is: 12696403353658275925965100847566516959580321051449436762275840000000000000\n",
            "The factorial of 56 is: 710998587804863451854045647463724949736497978881168458687447040000000000000\n",
            "The factorial of 57 is: 40526919504877216755680601905432322134980384796226602145184481280000000000000\n",
            "The factorial of 58 is: 2350561331282878571829474910515074683828862318181142924420699914240000000000000\n",
            "The factorial of 59 is: 138683118545689835737939019720389406345902876772687432540821294940160000000000000\n",
            "The factorial of 60 is: 8320987112741390144276341183223364380754172606361245952449277696409600000000000000\n",
            "The factorial of 61 is: 507580213877224798800856812176625227226004528988036003099405939480985600000000000000\n",
            "The factorial of 62 is: 31469973260387937525653122354950764088012280797258232192163168247821107200000000000000\n",
            "The factorial of 63 is: 1982608315404440064116146708361898137544773690227268628106279599612729753600000000000000\n",
            "The factorial of 64 is: 126886932185884164103433389335161480802865516174545192198801894375214704230400000000000000\n",
            "The factorial of 65 is: 8247650592082470666723170306785496252186258551345437492922123134388955774976000000000000000\n",
            "The factorial of 66 is: 544344939077443064003729240247842752644293064388798874532860126869671081148416000000000000000\n",
            "The factorial of 67 is: 36471110918188685288249859096605464427167635314049524593701628500267962436943872000000000000000\n",
            "The factorial of 68 is: 2480035542436830599600990418569171581047399201355367672371710738018221445712183296000000000000000\n",
            "The factorial of 69 is: 171122452428141311372468338881272839092270544893520369393648040923257279754140647424000000000000000\n",
            "The factorial of 70 is: 11978571669969891796072783721689098736458938142546425857555362864628009582789845319680000000000000000\n",
            "The factorial of 71 is: 850478588567862317521167644239926010288584608120796235886430763388588680378079017697280000000000000000\n",
            "The factorial of 72 is: 61234458376886086861524070385274672740778091784697328983823014963978384987221689274204160000000000000000\n",
            "The factorial of 73 is: 4470115461512684340891257138125051110076800700282905015819080092370422104067183317016903680000000000000000\n",
            "The factorial of 74 is: 330788544151938641225953028221253782145683251820934971170611926835411235700971565459250872320000000000000000\n",
            "The factorial of 75 is: 24809140811395398091946477116594033660926243886570122837795894512655842677572867409443815424000000000000000000\n",
            "The factorial of 76 is: 1885494701666050254987932260861146558230394535379329335672487982961844043495537923117729972224000000000000000000\n",
            "The factorial of 77 is: 145183092028285869634070784086308284983740379224208358846781574688061991349156420080065207861248000000000000000000\n",
            "The factorial of 78 is: 11324281178206297831457521158732046228731749579488251990048962825668835325234200766245086213177344000000000000000000\n",
            "The factorial of 79 is: 894618213078297528685144171539831652069808216779571907213868063227837990693501860533361810841010176000000000000000000\n",
            "The factorial of 80 is: 71569457046263802294811533723186532165584657342365752577109445058227039255480148842668944867280814080000000000000000000\n",
            "The factorial of 81 is: 5797126020747367985879734231578109105412357244731625958745865049716390179693892056256184534249745940480000000000000000000\n",
            "The factorial of 82 is: 475364333701284174842138206989404946643813294067993328617160934076743994734899148613007131808479167119360000000000000000000\n",
            "The factorial of 83 is: 39455239697206586511897471180120610571436503407643446275224357528369751562996629334879591940103770870906880000000000000000000\n",
            "The factorial of 84 is: 3314240134565353266999387579130131288000666286242049487118846032383059131291716864129885722968716753156177920000000000000000000\n",
            "The factorial of 85 is: 281710411438055027694947944226061159480056634330574206405101912752560026159795933451040286452340924018275123200000000000000000000\n",
            "The factorial of 86 is: 24227095383672732381765523203441259715284870552429381750838764496720162249742450276789464634901319465571660595200000000000000000000\n",
            "The factorial of 87 is: 2107757298379527717213600518699389595229783738061356212322972511214654115727593174080683423236414793504734471782400000000000000000000\n",
            "The factorial of 88 is: 185482642257398439114796845645546284380220968949399346684421580986889562184028199319100141244804501828416633516851200000000000000000000\n",
            "The factorial of 89 is: 16507955160908461081216919262453619309839666236496541854913520707833171034378509739399912570787600662729080382999756800000000000000000000\n",
            "The factorial of 90 is: 1485715964481761497309522733620825737885569961284688766942216863704985393094065876545992131370884059645617234469978112000000000000000000000\n",
            "The factorial of 91 is: 135200152767840296255166568759495142147586866476906677791741734597153670771559994765685283954750449427751168336768008192000000000000000000000\n",
            "The factorial of 92 is: 12438414054641307255475324325873553077577991715875414356840239582938137710983519518443046123837041347353107486982656753664000000000000000000000\n",
            "The factorial of 93 is: 1156772507081641574759205162306240436214753229576413535186142281213246807121467315215203289516844845303838996289387078090752000000000000000000000\n",
            "The factorial of 94 is: 108736615665674308027365285256786601004186803580182872307497374434045199869417927630229109214583415458560865651202385340530688000000000000000000000\n",
            "The factorial of 95 is: 10329978488239059262599702099394727095397746340117372869212250571234293987594703124871765375385424468563282236864226607350415360000000000000000000000\n",
            "The factorial of 96 is: 991677934870949689209571401541893801158183648651267795444376054838492222809091499987689476037000748982075094738965754305639874560000000000000000000000\n",
            "The factorial of 97 is: 96192759682482119853328425949563698712343813919172976158104477319333745612481875498805879175589072651261284189679678167647067832320000000000000000000000\n",
            "The factorial of 98 is: 9426890448883247745626185743057242473809693764078951663494238777294707070023223798882976159207729119823605850588608460429412647567360000000000000000000000\n",
            "The factorial of 99 is: 933262154439441526816992388562667004907159682643816214685929638952175999932299156089414639761565182862536979208272237582511852109168640000000000000000000000\n",
            "The factorial of 100 is: 93326215443944152681699238856266700490715968264381621468592963895217599993229915608941463976156518286253697920827223758251185210916864000000000000000000000000\n"
          ]
        }
      ]
    },
    {
      "cell_type": "code",
      "source": [
        "a = 10\n",
        "b = 5\n",
        "\n",
        "print(f\"Before swapping: a = {a}, b = {b}\")\n",
        "\n",
        "a = a + b\n",
        "b = a - b\n",
        "a = a - b\n",
        "\n",
        "print(f\"After swapping: a = {a}, b = {b}\")"
      ],
      "metadata": {
        "id": "CA_yTyviM2Wu"
      },
      "execution_count": null,
      "outputs": []
    },
    {
      "cell_type": "code",
      "source": [
        "num = int(input(\"Enter a number: \"))\n",
        "multiplication = 1\n",
        "\n",
        "if num == 0:\n",
        "  multiplication = 0\n",
        "elif num > 0:\n",
        "  while num > 0:\n",
        "    dig = num % 10\n",
        "    multiplication *= dig\n",
        "    num = num // 10\n",
        "else:\n",
        "    print(\"Please enter a non-negative number.\")\n",
        "    multiplication = None\n",
        "\n",
        "if multiplication is not None:\n",
        "  print(f\"The multiplication of the digits is: {multiplication}\")"
      ],
      "metadata": {
        "id": "W5_7oq-TNk3L"
      },
      "execution_count": null,
      "outputs": []
    },
    {
      "cell_type": "code",
      "source": [
        "year = int(input(\"Enter a year: \"))\n",
        "\n",
        "if year % 4 == 0:\n",
        "  if year % 100 == 0:\n",
        "    if year % 400 == 0:\n",
        "      print(f\"{year} is a leap year.\")\n",
        "    else:\n",
        "      print(f\"{year} is not a leap year.\")\n",
        "  else:\n",
        "    print(f\"{year} is a leap year.\")\n",
        "else:\n",
        "  print(f\"{year} is not a leap year.\")"
      ],
      "metadata": {
        "id": "an32JY0ONwAb"
      },
      "execution_count": null,
      "outputs": []
    },
    {
      "cell_type": "code",
      "source": [
        "print(\"Even numbers from 100 to 1:\")\n",
        "\n",
        "for number in range(100, 0, -1):\n",
        "  if number % 2 == 0:\n",
        "    print(number)"
      ],
      "metadata": {
        "id": "G8MiKM7qOD36",
        "colab": {
          "base_uri": "https://localhost:8080/"
        },
        "outputId": "ea60f05c-aa82-4981-da00-78868de2f654"
      },
      "execution_count": null,
      "outputs": [
        {
          "output_type": "stream",
          "name": "stdout",
          "text": [
            "Even numbers from 100 to 1:\n",
            "100\n",
            "98\n",
            "96\n",
            "94\n",
            "92\n",
            "90\n",
            "88\n",
            "86\n",
            "84\n",
            "82\n",
            "80\n",
            "78\n",
            "76\n",
            "74\n",
            "72\n",
            "70\n",
            "68\n",
            "66\n",
            "64\n",
            "62\n",
            "60\n",
            "58\n",
            "56\n",
            "54\n",
            "52\n",
            "50\n",
            "48\n",
            "46\n",
            "44\n",
            "42\n",
            "40\n",
            "38\n",
            "36\n",
            "34\n",
            "32\n",
            "30\n",
            "28\n",
            "26\n",
            "24\n",
            "22\n",
            "20\n",
            "18\n",
            "16\n",
            "14\n",
            "12\n",
            "10\n",
            "8\n",
            "6\n",
            "4\n",
            "2\n"
          ]
        }
      ]
    },
    {
      "cell_type": "code",
      "source": [
        "num = int(input(\"Enter a number: \"))\n",
        "multiplication = 1\n",
        "\n",
        "if num == 0:\n",
        "  multiplication = 0\n",
        "elif num > 0:\n",
        "  while num > 0:\n",
        "    dig = num % 10\n",
        "    multiplication *= dig\n",
        "    num = num // 10\n",
        "else:\n",
        "    print(\"Please enter a non-negative number.\")\n",
        "    multiplication = None\n",
        "\n",
        "if multiplication is not None:\n",
        "  print(f\"The multiplication of the digits is: {multiplication}\")"
      ],
      "metadata": {
        "colab": {
          "base_uri": "https://localhost:8080/"
        },
        "id": "47XVotj43y8h",
        "outputId": "c6df3e7a-b103-46d0-c313-f9d540897d96"
      },
      "execution_count": null,
      "outputs": [
        {
          "output_type": "stream",
          "name": "stdout",
          "text": [
            "Enter a number: 967\n",
            "The multiplication of the digits is: 378\n"
          ]
        }
      ]
    },
    {
      "cell_type": "code",
      "source": [
        "def abracadabra():\n",
        "  print(\"Dominic\")\n",
        "a = abracadabra()\n",
        "print(a)"
      ],
      "metadata": {
        "id": "AzJus0hr7HZd",
        "colab": {
          "base_uri": "https://localhost:8080/"
        },
        "outputId": "3932a481-912c-45b7-e7a6-2526ed8cbe1d"
      },
      "execution_count": null,
      "outputs": [
        {
          "output_type": "stream",
          "name": "stdout",
          "text": [
            "Dominic\n",
            "None\n"
          ]
        }
      ]
    },
    {
      "cell_type": "code",
      "source": [
        "def speak():\n",
        "  print(\"Hi\")\n",
        "speak()"
      ],
      "metadata": {
        "colab": {
          "base_uri": "https://localhost:8080/"
        },
        "id": "TYKVaVeJWmyi",
        "outputId": "291c85fc-1b0a-4580-a009-125bd2b21110"
      },
      "execution_count": null,
      "outputs": [
        {
          "output_type": "stream",
          "name": "stdout",
          "text": [
            "Hi\n"
          ]
        }
      ]
    },
    {
      "cell_type": "code",
      "source": [
        "def factorial(a):\n",
        "  result = 1\n",
        "  for i in range(1, a + 1):\n",
        "     result *= i\n",
        "  return result\n",
        "\n",
        "result_of_multiplication = factorial(5)\n",
        "print(f\"The result of 1*2*3*4*5 is: {result_of_multiplication}\")"
      ],
      "metadata": {
        "colab": {
          "base_uri": "https://localhost:8080/"
        },
        "id": "vcGyUXVJZlYu",
        "outputId": "de5ab739-33ec-4d36-ab8c-1193df0124f8"
      },
      "execution_count": null,
      "outputs": [
        {
          "output_type": "stream",
          "name": "stdout",
          "text": [
            "The result of 1*2*3*4*5 is: 120\n"
          ]
        }
      ]
    },
    {
      "cell_type": "code",
      "source": [
        "a, b = 0, 1\n",
        "limit = 100\n",
        "\n",
        "print(\"Fibonacci sequence up to 100:\")\n",
        "while a <= limit:\n",
        "  print(a)\n",
        "  fib = a + b\n",
        "  a = b\n",
        "  b = fib"
      ],
      "metadata": {
        "colab": {
          "base_uri": "https://localhost:8080/"
        },
        "id": "954Jy6b8c-dC",
        "outputId": "07c1ac84-eb6e-4fbb-df0c-bbb79daa0b88"
      },
      "execution_count": null,
      "outputs": [
        {
          "output_type": "stream",
          "name": "stdout",
          "text": [
            "Fibonacci sequence up to 100:\n",
            "0\n",
            "1\n",
            "1\n",
            "2\n",
            "3\n",
            "5\n",
            "8\n",
            "13\n",
            "21\n",
            "34\n",
            "55\n",
            "89\n"
          ]
        }
      ]
    },
    {
      "cell_type": "code",
      "source": [
        "def factorial(n):\n",
        "  if n < 0:\n",
        "    return\n",
        "  elif n == 0:\n",
        "    return 1\n",
        "  else:\n",
        "    result = 1\n",
        "    for i in range(1, n + 1):\n",
        "      result *= i\n",
        "    return result\n",
        "\n",
        "limit = 21\n",
        "\n",
        "print(f\"Factorials up to {limit}:\")\n",
        "for i in range(limit + 1):\n",
        "    result_of_factorial = factorial(i)\n",
        "    print(f\"The factorial of {i} is: {result_of_factorial}\")"
      ],
      "metadata": {
        "colab": {
          "base_uri": "https://localhost:8080/"
        },
        "id": "dqdO_E3zBmjl",
        "outputId": "c38f3e4a-916c-4056-d711-94ff43d60aea"
      },
      "execution_count": null,
      "outputs": [
        {
          "output_type": "stream",
          "name": "stdout",
          "text": [
            "Factorials up to 21:\n",
            "The factorial of 0 is: 1\n",
            "The factorial of 1 is: 1\n",
            "The factorial of 2 is: 2\n",
            "The factorial of 3 is: 6\n",
            "The factorial of 4 is: 24\n",
            "The factorial of 5 is: 120\n",
            "The factorial of 6 is: 720\n",
            "The factorial of 7 is: 5040\n",
            "The factorial of 8 is: 40320\n",
            "The factorial of 9 is: 362880\n",
            "The factorial of 10 is: 3628800\n",
            "The factorial of 11 is: 39916800\n",
            "The factorial of 12 is: 479001600\n",
            "The factorial of 13 is: 6227020800\n",
            "The factorial of 14 is: 87178291200\n",
            "The factorial of 15 is: 1307674368000\n",
            "The factorial of 16 is: 20922789888000\n",
            "The factorial of 17 is: 355687428096000\n",
            "The factorial of 18 is: 6402373705728000\n",
            "The factorial of 19 is: 121645100408832000\n",
            "The factorial of 20 is: 2432902008176640000\n",
            "The factorial of 21 is: 51090942171709440000\n"
          ]
        }
      ]
    },
    {
      "cell_type": "code",
      "source": [
        "def addnum(*arg):\n",
        " return sum(arg)\n",
        "\n",
        "addnum(5682133,66692365,4851225,22699522,12)"
      ],
      "metadata": {
        "colab": {
          "base_uri": "https://localhost:8080/"
        },
        "id": "5CdfctdPLmos",
        "outputId": "adf168f6-9b41-4a63-f247-88b25f7c3d96"
      },
      "execution_count": null,
      "outputs": [
        {
          "output_type": "execute_result",
          "data": {
            "text/plain": [
              "99925257"
            ]
          },
          "metadata": {},
          "execution_count": 18
        }
      ]
    },
    {
      "cell_type": "code",
      "source": [
        "def addnum(*arg):\n",
        "  sum = 0\n",
        "  for i in arg:\n",
        "    sum = sum + i\n",
        "  return sum\n",
        "\n",
        "print(addnum(25,45,64,75,81,63,22,14))"
      ],
      "metadata": {
        "colab": {
          "base_uri": "https://localhost:8080/"
        },
        "id": "9QLNsX44SrRh",
        "outputId": "69be959f-1e39-42e3-808b-c82cad2a894f"
      },
      "execution_count": null,
      "outputs": [
        {
          "output_type": "stream",
          "name": "stdout",
          "text": [
            "389\n"
          ]
        }
      ]
    },
    {
      "cell_type": "code",
      "source": [
        "def is_leap_year(year):\n",
        "\n",
        "  if (year % 4 == 0 and year % 100 != 0) or (year % 400 == 0):\n",
        "    return True\n",
        "  else:\n",
        "    return False\n",
        "\n",
        "year_to_check = int(input(\"Enter a year: \"))\n",
        "\n",
        "if is_leap_year(year_to_check):\n",
        "  print(f\"{year_to_check} is a leap year.\")\n",
        "else:\n",
        "  print(f\"{year_to_check} is not a leap year.\")"
      ],
      "metadata": {
        "id": "Akx8Cs6vUbVW",
        "colab": {
          "base_uri": "https://localhost:8080/"
        },
        "outputId": "4eb2465a-e6f6-48dc-a1ae-81e6859305de"
      },
      "execution_count": null,
      "outputs": [
        {
          "output_type": "stream",
          "name": "stdout",
          "text": [
            "Enter a year: 2024\n",
            "2024 is a leap year.\n"
          ]
        }
      ]
    },
    {
      "cell_type": "code",
      "source": [
        "def recursive_factorial(n):\n",
        "\n",
        "  if n < 0:\n",
        "    return \"Factorial is not defined for negative numbers\"\n",
        "  elif n == 0:\n",
        "    return 1\n",
        "  else:\n",
        "    return n * recursive_factorial(n - 1)\n",
        "\n",
        "def print_factorials_up_to(limit):\n",
        "\n",
        "    if limit < 0:\n",
        "        return\n",
        "    else:\n",
        "        print_factorials_up_to(limit - 1)\n",
        "        result = recursive_factorial(limit)\n",
        "        print(f\"The factorial of {limit} is: {result}\")\n",
        "\n",
        "limit = 10\n",
        "\n",
        "print(f\"Factorials up to {limit} using recursion:\")\n",
        "print_factorials_up_to(limit)"
      ],
      "metadata": {
        "colab": {
          "base_uri": "https://localhost:8080/"
        },
        "id": "vaf3s1ANTUhh",
        "outputId": "cdc7a802-e1da-43d7-f697-9db8b45b6c2e"
      },
      "execution_count": null,
      "outputs": [
        {
          "output_type": "stream",
          "name": "stdout",
          "text": [
            "Factorials up to 10 using recursion:\n",
            "The factorial of 0 is: 1\n",
            "The factorial of 1 is: 1\n",
            "The factorial of 2 is: 2\n",
            "The factorial of 3 is: 6\n",
            "The factorial of 4 is: 24\n",
            "The factorial of 5 is: 120\n",
            "The factorial of 6 is: 720\n",
            "The factorial of 7 is: 5040\n",
            "The factorial of 8 is: 40320\n",
            "The factorial of 9 is: 362880\n",
            "The factorial of 10 is: 3628800\n"
          ]
        }
      ]
    },
    {
      "cell_type": "markdown",
      "source": [
        "a = lambda a,b :a+b:"
      ],
      "metadata": {
        "id": "1pWIkclyUmUS"
      }
    },
    {
      "cell_type": "code",
      "source": [
        "def recursive_factorial(n):\n",
        "  if n < 0:\n",
        "    return\n",
        "  elif n == 0:\n",
        "    return 1\n",
        "  else:\n",
        "    return n * recursive_factorial(n - 1)\n",
        "\n",
        "factorial_1 = recursive_factorial(1)\n",
        "factorial_3 = recursive_factorial(3)\n",
        "factorial_5 = recursive_factorial(5)\n",
        "factorial_7 = recursive_factorial(7)\n",
        "\n",
        "sum_of_factorials = factorial_1 + factorial_3 + factorial_5 + factorial_7\n",
        "\n",
        "print(f\"The factorial of 1 is: {factorial_1}\")\n",
        "print(f\"The factorial of 3 is: {factorial_3}\")\n",
        "print(f\"The factorial of 5 is: {factorial_5}\")\n",
        "print(f\"The factorial of 7 is: {factorial_7}\")\n",
        "print(f\"The sum of the factorials is: {sum_of_factorials}\")"
      ],
      "metadata": {
        "colab": {
          "base_uri": "https://localhost:8080/"
        },
        "id": "mAQa4BPXV1RG",
        "outputId": "c415e013-0e76-4bf3-d4ba-d9ff6d1468fb"
      },
      "execution_count": 7,
      "outputs": [
        {
          "output_type": "stream",
          "name": "stdout",
          "text": [
            "The factorial of 1 is: 1\n",
            "The factorial of 3 is: 6\n",
            "The factorial of 5 is: 120\n",
            "The factorial of 7 is: 5040\n",
            "The sum of the factorials is: 5167\n"
          ]
        }
      ]
    },
    {
      "cell_type": "code",
      "source": [
        "def recursive_factorial(n):\n",
        "  if n < 0:\n",
        "    return\n",
        "  elif n == 0:\n",
        "    return 1\n",
        "  else:\n",
        "    return n * recursive_factorial(n - 1)\n",
        "\n",
        "factorial_2 = recursive_factorial(2)\n",
        "factorial_6 = recursive_factorial(6)\n",
        "factorial_10 = recursive_factorial(10)\n",
        "factorial_14 = recursive_factorial(14)\n",
        "\n",
        "sum_of_factorials = factorial_2 + factorial_6 + factorial_10 + factorial_14\n",
        "\n",
        "print(f\"The factorial of 2 is: {factorial_2}\")\n",
        "print(f\"The factorial of 6 is: {factorial_6}\")\n",
        "print(f\"The factorial of 10 is: {factorial_10}\")\n",
        "print(f\"The factorial of 14 is: {factorial_14}\")\n",
        "print(f\"The sum of the factorials is: {sum_of_factorials}\")\n"
      ],
      "metadata": {
        "colab": {
          "base_uri": "https://localhost:8080/"
        },
        "id": "-SU5iYMqY09T",
        "outputId": "f886336e-7f2c-46a9-a88a-dd76378b2e36"
      },
      "execution_count": 8,
      "outputs": [
        {
          "output_type": "stream",
          "name": "stdout",
          "text": [
            "The factorial of 2 is: 2\n",
            "The factorial of 6 is: 720\n",
            "The factorial of 10 is: 3628800\n",
            "The factorial of 14 is: 87178291200\n",
            "The sum of the factorials is: 87181920722\n"
          ]
        }
      ]
    },
    {
      "cell_type": "code",
      "source": [
        "num = 30\n",
        "print(f\"Factors of {num}:\")\n",
        "for i in range(1, num + 1):\n",
        "  if num % i == 0:\n",
        "    print(i)"
      ],
      "metadata": {
        "colab": {
          "base_uri": "https://localhost:8080/"
        },
        "id": "SLE1IuGmgm5A",
        "outputId": "b8e198de-d776-4e3a-dfe0-7050b4f657a0"
      },
      "execution_count": 9,
      "outputs": [
        {
          "output_type": "stream",
          "name": "stdout",
          "text": [
            "Factors of 30:\n",
            "1\n",
            "2\n",
            "3\n",
            "5\n",
            "6\n",
            "10\n",
            "15\n",
            "30\n"
          ]
        }
      ]
    },
    {
      "cell_type": "code",
      "source": [
        "def find_hcf(a, b):\n",
        "\n",
        "  while(b):\n",
        "    a, b = b, a % b\n",
        "  return a\n",
        "\n",
        "num1 = 10\n",
        "num2 = 20\n",
        "\n",
        "hcf = find_hcf(num1, num2)\n",
        "\n",
        "print(f\"The HCF of {num1} and {num2} is: {hcf}\")\n"
      ],
      "metadata": {
        "colab": {
          "base_uri": "https://localhost:8080/"
        },
        "id": "AbpVJ0XqiOMu",
        "outputId": "b5960db8-2482-4b6f-f9c4-38854853d854"
      },
      "execution_count": 15,
      "outputs": [
        {
          "output_type": "stream",
          "name": "stdout",
          "text": [
            "The HCF of 300 and 450 is: 150\n"
          ]
        }
      ]
    },
    {
      "cell_type": "code",
      "source": [
        "def find_hcf(a, b):\n",
        "\n",
        "  while(b):\n",
        "    a, b = b, a % b\n",
        "  return a\n",
        "\n",
        "def find_lcm(a, b):\n",
        "\n",
        "  hcf = find_hcf(a, b)\n",
        "  lcm = (a * b) // hcf\n",
        "\n",
        "  return lcm\n",
        "\n",
        "num1 = 100\n",
        "num2 = 150\n",
        "\n",
        "lcm = find_lcm(num1, num2)\n",
        "\n",
        "print(f\"The LCM of {num1} and {num2} is: {lcm}\")"
      ],
      "metadata": {
        "colab": {
          "base_uri": "https://localhost:8080/"
        },
        "outputId": "e7287c0b-2947-426a-a830-c2dfb61d71f0",
        "id": "kyHc33CTme29"
      },
      "execution_count": 32,
      "outputs": [
        {
          "output_type": "stream",
          "name": "stdout",
          "text": [
            "The LCM of 100 and 150 is: 300\n"
          ]
        }
      ]
    }
  ],
  "metadata": {
    "colab": {
      "provenance": [],
      "include_colab_link": true
    },
    "kernelspec": {
      "display_name": "Python 3",
      "name": "python3"
    }
  },
  "nbformat": 4,
  "nbformat_minor": 0
}