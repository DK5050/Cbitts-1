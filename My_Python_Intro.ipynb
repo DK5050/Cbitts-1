{
  "cells": [
    {
      "cell_type": "markdown",
      "metadata": {
        "id": "view-in-github",
        "colab_type": "text"
      },
      "source": [
        "<a href=\"https://colab.research.google.com/github/DK5050/Cbitts-1/blob/main/My_Python_Intro.ipynb\" target=\"_parent\"><img src=\"https://colab.research.google.com/assets/colab-badge.svg\" alt=\"Open In Colab\"/></a>"
      ]
    },
    {
      "cell_type": "code",
      "source": [
        "print (\"Devesh\")"
      ],
      "metadata": {
        "id": "-a3acnrM1oC1",
        "outputId": "3a3ddabf-2ae7-405b-f1d9-f27d92a6a3ff",
        "colab": {
          "base_uri": "https://localhost:8080/"
        }
      },
      "execution_count": null,
      "outputs": [
        {
          "output_type": "stream",
          "name": "stdout",
          "text": [
            "Devesh\n"
          ]
        }
      ]
    },
    {
      "cell_type": "code",
      "source": [
        "a = \"My name is Devesh\"\n",
        "\n",
        "print(a)"
      ],
      "metadata": {
        "id": "y2eT8Dvk2DHM",
        "outputId": "a2768d56-c42f-49c5-8e0f-20d14c3fbbd6",
        "colab": {
          "base_uri": "https://localhost:8080/"
        }
      },
      "execution_count": null,
      "outputs": [
        {
          "output_type": "stream",
          "name": "stdout",
          "text": [
            "My name is Devesh\n"
          ]
        }
      ]
    },
    {
      "cell_type": "code",
      "source": [
        "print (\"My name is Devesh\")\n",
        "print (\"My age is 25\")\n",
        "print (\"My address is Ridhi Towers, Shivalik City, Kharar\")\n",
        "print (\"My hobbies are watching anime and reading manga\")\n",
        "print (\"My family includes my mother, my father, my sister-in-law and my brother\")\n",
        "print (\"My goal in life is to earn boatload of money\")\n",
        "print (\"I have graduated from Chitkara University, Baddi\")\n",
        "print (\"I ave completed my graduation in B.E Computer Science\")"
      ],
      "metadata": {
        "id": "Q4EBM3Bx25lF",
        "outputId": "a84478a9-fc51-46a6-d2bc-6c831823ba27",
        "colab": {
          "base_uri": "https://localhost:8080/"
        }
      },
      "execution_count": null,
      "outputs": [
        {
          "output_type": "stream",
          "name": "stdout",
          "text": [
            "My name is Devesh\n",
            "My age is 25\n",
            "My address is Ridhi Towers, Shivalik City, Kharar\n",
            "My hobbies are watching anime and reading manga\n",
            "My family includes my mother, my father, my sister-in-law and my brother\n",
            "My goal in life is to earn boatload of money\n",
            "I have graduated from Chitkara University, Baddi\n",
            "I ave completed my graduation in B.E Computer Science\n"
          ]
        }
      ]
    },
    {
      "cell_type": "code",
      "source": [
        "a = 25\n",
        "print (\"My age is\",a)"
      ],
      "metadata": {
        "id": "CiI5rOsR3L4R",
        "outputId": "4b173dd2-9f85-495e-a5fb-b60abc3d94b8",
        "colab": {
          "base_uri": "https://localhost:8080/"
        }
      },
      "execution_count": null,
      "outputs": [
        {
          "output_type": "stream",
          "name": "stdout",
          "text": [
            "My age is 25\n"
          ]
        }
      ]
    },
    {
      "cell_type": "code",
      "source": [
        "# Below if the Top 5 most populated states in India\n",
        "\n",
        "print (\"Most populated states in India\")\n",
        "print (\"1. Uttar Pradesh with population of 199 million\")\n",
        "print (\"2. Maharashtra with population of 112 million\")\n",
        "print (\"3. Bihar with population of 104 million\")\n",
        "print (\"4. West Bengal with population of 91 million\")\n",
        "print (\"5. Madhya Pradesh with population of 72 million\")"
      ],
      "metadata": {
        "colab": {
          "base_uri": "https://localhost:8080/"
        },
        "id": "2BhT60qU88yj",
        "outputId": "82f7e448-4486-4a39-f00d-0d67732be447"
      },
      "execution_count": null,
      "outputs": [
        {
          "output_type": "stream",
          "name": "stdout",
          "text": [
            "Most populated states in India\n",
            "1. Uttar Pradesh with population of 199 million\n",
            "2. Maharashtra with population of 112 million\n",
            "3. Bihar with population of 104 million\n",
            "4. West Bengal with population of 91 million\n",
            "5. Madhya Pradesh with population of 72 million\n"
          ]
        }
      ]
    },
    {
      "cell_type": "code",
      "source": [
        "a = \"Devesh\"\n",
        "b = \"Kashyap\"\n",
        "print (a+b)"
      ],
      "metadata": {
        "colab": {
          "base_uri": "https://localhost:8080/"
        },
        "id": "rCAFgFiF_TFT",
        "outputId": "698144c6-ded0-4f83-f825-a359a76c28ea"
      },
      "execution_count": null,
      "outputs": [
        {
          "output_type": "stream",
          "name": "stdout",
          "text": [
            "DeveshKashyap\n"
          ]
        }
      ]
    },
    {
      "cell_type": "code",
      "source": [
        "a =2\n",
        "b = 3\n",
        "print (a+b)"
      ],
      "metadata": {
        "colab": {
          "base_uri": "https://localhost:8080/"
        },
        "id": "s9LrN23U_1hg",
        "outputId": "68a8fb5a-335a-4aba-b694-c5cd41137073"
      },
      "execution_count": null,
      "outputs": [
        {
          "output_type": "stream",
          "name": "stdout",
          "text": [
            "5\n"
          ]
        }
      ]
    },
    {
      "cell_type": "code",
      "source": [
        "# Below are the details of Account and aslo the Account Holder.\n",
        "\"\"\"there are all the information about the account holder and account\"\"\"\n",
        "\n",
        "print (\"Account holder details\")\n",
        "print (\"Account Holder name = Devesh Kashyap\")\n",
        "print (\"Registered Mobile number = 6239887570\")\n",
        "print (\"Residential Address = Ridhi Towers, Shivalik City, Kharar\")\n",
        "\n",
        "print (\"Account Details\")\n",
        "print (\"Account Number = 35356998033\")\n",
        "print (\"IFSC Code = SBIN0000702\")\n",
        "print (\"Bank Name = STATE BANK OF INDIA\")\n",
        "print (\"Branch Name = SBI RAMPUR BUSR, HP\")\n",
        "\n"
      ],
      "metadata": {
        "colab": {
          "base_uri": "https://localhost:8080/"
        },
        "id": "GWsN1v_yAfhz",
        "outputId": "3389885a-c612-4b92-87e0-1c995e311e91"
      },
      "execution_count": null,
      "outputs": [
        {
          "output_type": "stream",
          "name": "stdout",
          "text": [
            "Account holder details\n",
            "Account Holder name = Devesh Kashyap\n",
            "Registered Mobile number = 6239887570\n",
            "Residential Address = Ridhi Towers, Shivalik City, Kharar\n",
            "Account Details\n",
            "Account Number = 35356998033\n",
            "IFSC Code = SBIN0000702\n",
            "Bank Name = STATE BANK OF INDIA\n",
            "Branch Name = SBI RAMPUR BUSR, HP\n"
          ]
        }
      ]
    },
    {
      "cell_type": "code",
      "source": [
        "# Below if my daily routine shedule\n",
        "\n",
        "print (\" My Daily Routine\")\n",
        "print (\"7:00 AM Wake-Up\")\n",
        "print (\"7:30 AM -8:30 AM Morning Workout\")\n",
        "print (\"8:30 AM Freshen Up Time\")\n",
        "print (\"9:00 AM Breakfast Time\")\n",
        "print (\"9:30 AM OFF TO WORK\")\n",
        "print (\"1:30 PM Lunch Time\")\n",
        "print (\"3:00 PM OFF TO HOME FROM WORK\")\n",
        "print (\"3:30 PM - 5:30 PM Academy Time\")\n",
        "print (\"6:00 PM - 8:00 PM Hangout with friends\")\n",
        "print (\"9 PM Dinner Time\")\n",
        "print (\"10:00 PM OFF TO SLEEP\")"
      ],
      "metadata": {
        "colab": {
          "base_uri": "https://localhost:8080/"
        },
        "id": "SNboIyHjDFqt",
        "outputId": "7100d190-c5b2-47cd-b92c-a92fd77cc5ee"
      },
      "execution_count": null,
      "outputs": [
        {
          "output_type": "stream",
          "name": "stdout",
          "text": [
            " My Daily Routine\n",
            "7:00 AM Wake-Up\n",
            "7:30 AM -8:30 AM Morning Workout\n",
            "8:30 AM Freshen Up Time\n",
            "9:00 AM Breakfast Time\n",
            "9:30 AM OFF TO WORK\n",
            "1:30 PM Lunch Time\n",
            "3:00 PM OFF TO HOME FROM WORK\n",
            "3:30 PM - 5:30 PM Academy Time\n",
            "6:00 PM - 8:00 PM Hangout with friends\n",
            "9 PM Dinner Time\n",
            "10:00 PM OFF TO SLEEP\n"
          ]
        }
      ]
    },
    {
      "cell_type": "code",
      "source": [
        "#Below is my required monthly grocery list\n",
        "\"\"\"all the items are in kg and litre\"\"\"\n",
        "\n",
        "print (\"Monthly Grocery List\")\n",
        "print (\"Wheat = 10 kg\")\n",
        "print (\"Rice = 10 kg\")\n",
        "print (\"Sugar = 5 kg\")\n",
        "print (\"Salt = 5 kg\")\n",
        "print (\"Oil = 2 litre\")\n",
        "print (\"Pulses = 2 kg/packet\")\n",
        "print (\"Onion = 5 kg\")\n",
        "print (\"Garlic = 2 kg\")\n",
        "print (\"Potato = 5 kg\")\n",
        "print (\"Ginger = 1 kg\")\n",
        "print (\"Cold Drinks = 2 litre\")\n",
        "print (\"Coffee = 1kg\")\n",
        "print (\"Tea = 1 kg\")\n",
        "print (\"1 Jumbo Pack of Corn Flakes\")\n",
        "print (\"Porridge = 1 kg\")"
      ],
      "metadata": {
        "colab": {
          "base_uri": "https://localhost:8080/"
        },
        "id": "Tx3DYzX8rkyS",
        "outputId": "733115c8-97e8-4b63-cbd4-d690b97cb440"
      },
      "execution_count": null,
      "outputs": [
        {
          "output_type": "stream",
          "name": "stdout",
          "text": [
            "Monthly Grocery List\n",
            "Wheat = 10 kg\n",
            "Rice = 10 kg\n",
            "Sugar = 5 kg\n",
            "Salt = 5 kg\n",
            "Oil = 2 litre\n",
            "Pulses = 2 kg/packet\n",
            "Onion = 5 kg\n",
            "Garlic = 2 kg\n",
            "Potato = 5 kg\n",
            "Ginger = 1 kg\n",
            "Cold Drinks = 2 litre\n",
            "Coffee = 1kg\n",
            "Tea = 1 kg\n",
            "1 Jumbo Pack of Corn Flakes\n",
            "Porridge = 1 kg\n"
          ]
        }
      ]
    },
    {
      "cell_type": "code",
      "source": [
        "# Below is the addition of 2 following numbers\n",
        "\"\"\"first number is 73 and second number is 45\"\"\"\n",
        "\n",
        "first_number, second_number = 73, 45\n",
        "\n",
        "print(\"Sum of the numbers:\", first_number + second_number)"
      ],
      "metadata": {
        "colab": {
          "base_uri": "https://localhost:8080/"
        },
        "id": "dWXta3Tq9bIC",
        "outputId": "569ce529-863c-4972-9cd9-2d4927cc5e58"
      },
      "execution_count": null,
      "outputs": [
        {
          "output_type": "stream",
          "name": "stdout",
          "text": [
            "Sum of the numbers: 118\n"
          ]
        }
      ]
    },
    {
      "cell_type": "code",
      "source": [
        "# Below is the multiplication of 2 following numbers\n",
        "\"\"\"first number is 82 and second number is 65\"\"\"\n",
        "\n",
        "first_number = 82\n",
        "second_number = 65\n",
        "\n",
        "print(\"Multiplication of the numbers:\", first_number * second_number)"
      ],
      "metadata": {
        "colab": {
          "base_uri": "https://localhost:8080/"
        },
        "id": "7b6O1SM1-g0Z",
        "outputId": "9ed39e5b-1ab1-4fb3-a70c-06f5a8c6ecc2"
      },
      "execution_count": null,
      "outputs": [
        {
          "output_type": "stream",
          "name": "stdout",
          "text": [
            "Multiplication of the numbers: 5330\n"
          ]
        }
      ]
    },
    {
      "cell_type": "markdown",
      "source": [],
      "metadata": {
        "id": "es8iR--kE-bb"
      }
    },
    {
      "cell_type": "code",
      "source": [
        "# Below is the division of the 2 following numbers\n",
        "\"\"\"first number is 77 and second number is 33\"\"\"\n",
        "\n",
        "first_number = 77\n",
        "second_number = 33\n",
        "\n",
        "print(\"Divisoin of the numbers:\", first_number / second_number)"
      ],
      "metadata": {
        "colab": {
          "base_uri": "https://localhost:8080/"
        },
        "id": "-UMkIylB-xhG",
        "outputId": "2419c584-9f9c-4c54-f627-919a4ec60afe"
      },
      "execution_count": null,
      "outputs": [
        {
          "output_type": "stream",
          "name": "stdout",
          "text": [
            "Divisoin of the numbers: 2.3333333333333335\n"
          ]
        }
      ]
    },
    {
      "cell_type": "code",
      "source": [
        "# Below is the percentage of the 2 following numbers\n",
        "\"\"\"first number is 97 and second number is 39\"\"\"\n",
        "\n",
        "first_number = 97\n",
        "second_number = 39\n",
        "\n",
        "print(\"Remainder of the numbers:\", first_number % second_number)"
      ],
      "metadata": {
        "colab": {
          "base_uri": "https://localhost:8080/"
        },
        "id": "c6b_tnpj_aVp",
        "outputId": "c7ebcb2d-8443-4329-97bd-1c2c6d6350f3"
      },
      "execution_count": null,
      "outputs": [
        {
          "output_type": "stream",
          "name": "stdout",
          "text": [
            "Percentage of the numbers: 19\n"
          ]
        }
      ]
    },
    {
      "cell_type": "code",
      "source": [
        "# Menu prices:\n",
        "# \"Price of a Pizza\": 150,\n",
        "# \"Price of a Pasta\": 125,\n",
        "# \"Price of a Salad\": 80,\n",
        "# \"Price of a Soda\": 20\n",
        "\n",
        "\n",
        "bill = int(input(\"Enter bill amount:\"))\n",
        "discount_input = input(\"Enter discount percentage:\")\n",
        "\n",
        "# Remove the '%' symbol if it exists and convert to integer\n",
        "discount = int(discount_input.replace('%', ''))\n",
        "\n",
        "if 0 <= discount <= 100:\n",
        "  discounted_bill = bill - (bill * discount / 100)\n",
        "  print(\"After discount your bill is: \", discounted_bill)\n",
        "else:\n",
        "  print(\"Invalid discount percentage entered.\")"
      ],
      "metadata": {
        "colab": {
          "base_uri": "https://localhost:8080/"
        },
        "id": "fsp4Z8TMBZdP",
        "outputId": "d13fdf5b-817b-4511-b6d9-b08b382c34da"
      },
      "execution_count": null,
      "outputs": [
        {
          "output_type": "stream",
          "name": "stdout",
          "text": [
            "Enter bill amount:360\n",
            "Enter discount percentage:30\n",
            "After discount your bill is:  252.0\n"
          ]
        }
      ]
    },
    {
      "cell_type": "code",
      "source": [
        "a = float(input(\"Enter the first item:\"))\n",
        "b = float(input(\"Enter the second item:\"))\n",
        "c = float(input(\"Enter the third item:\"))\n",
        "discount = float(input(\"Enter the discount percentage:\"))\n",
        "bill = a + b + c\n",
        "print(\"Your bill is:\", bill)\n",
        "discounted_bill = bill - (a+b * discount / 100)\n",
        "print(\"After discount your bill is: \", discounted_bill)\n",
        "\n"
      ],
      "metadata": {
        "colab": {
          "base_uri": "https://localhost:8080/"
        },
        "id": "iehfF1-UGx_T",
        "outputId": "06c2bfc1-f6a5-485f-d3c4-327f473c4498"
      },
      "execution_count": null,
      "outputs": [
        {
          "output_type": "stream",
          "name": "stdout",
          "text": [
            "Enter the first item:165\n",
            "Enter the second item:230\n",
            "Enter the third item:200\n",
            "Enter the discount percentage:30\n",
            "Your bill is: 595.0\n",
            "After discount your bill is:  361.0\n"
          ]
        }
      ]
    },
    {
      "cell_type": "code",
      "source": [
        "a = float(input(\"Enter the first item:\"))\n",
        "b = float(input(\"Enter the second item:\"))\n",
        "c = float(input(\"Enter the third item:\"))\n",
        "discount = float(input(\"Enter the discount percentage:\"))\n",
        "bill = a + b + c\n",
        "print(\"Your bill is:\", bill)\n",
        "discounted_bill = bill - (bill * discount / 100)\n",
        "print(\"After discount your bill is: \", discounted_bill)\n"
      ],
      "metadata": {
        "colab": {
          "base_uri": "https://localhost:8080/"
        },
        "id": "Y7wWFtaxAH2z",
        "outputId": "988db55c-7a72-4ebb-f981-ebed86bb6770"
      },
      "execution_count": null,
      "outputs": [
        {
          "output_type": "stream",
          "name": "stdout",
          "text": [
            "Enter the first item:300\n",
            "Enter the second item:250\n",
            "Enter the third item:180\n",
            "Enter the discount percentage:30\n",
            "Your bill is: 730.0\n",
            "After discount your bill is:  355.0\n"
          ]
        }
      ]
    },
    {
      "cell_type": "code",
      "source": [
        "def calculate_bill(price_person1, price_person2, discount_percentage):\n",
        "\n",
        "  total_before_discount = price_person1 + price_person2\n",
        "  discount_amount = (total_before_discount * discount_percentage) / 100\n",
        "  total_after_discount = total_before_discount - discount_amount\n",
        "  return total_before_discount, discount_amount, total_after_discount\n",
        "\n",
        "# Get input from the user\n",
        "price_person1 = float(input(\"Enter the price for person 1: \"))\n",
        "price_person2 = float(input(\"Enter the price for person 2: \"))\n",
        "discount_percentage = float(input(\"Enter the discount percentage: \"))\n",
        "\n",
        "# Calculate the bill\n",
        "total_before_discount, discount_amount, total_after_discount = calculate_bill(\n",
        "    price_person1, price_person2, discount_percentage\n",
        ")\n",
        "\n",
        "# Display the results\n",
        "print(f\"Total bill before discount\")\n",
        "print(f\"Discount amount\")\n",
        "print(f\"Total bill after discount\")"
      ],
      "metadata": {
        "colab": {
          "base_uri": "https://localhost:8080/"
        },
        "id": "4SGMDYAJAkLQ",
        "outputId": "51c45581-b15b-48b6-e621-21356c48b569"
      },
      "execution_count": null,
      "outputs": [
        {
          "output_type": "stream",
          "name": "stdout",
          "text": [
            "Enter the price for person 1: 250\n",
            "Enter the price for person 2: 180\n",
            "Enter the discount percentage: 25\n",
            "Total bill before discount\n",
            "Discount amount\n",
            "Total bill after discount\n"
          ]
        }
      ]
    },
    {
      "cell_type": "markdown",
      "source": [
        "\n",
        "\n",
        "\n",
        "\n",
        "\n",
        "\n",
        "\n",
        "\n",
        "\n",
        "\n",
        "\n",
        "\n",
        "\n",
        "\n",
        "\n",
        "\n",
        "\n",
        "\n",
        "\n",
        "\n",
        "\n",
        "\n",
        "\n",
        "\n",
        "\n",
        "\n",
        "\n",
        "\n",
        "\n",
        "\n",
        "\n",
        "\n",
        "\n",
        "\n",
        "\n",
        "\n",
        "\n",
        "\n",
        "\n",
        "\n",
        "\n",
        "\n",
        "\n",
        "\n",
        "\n",
        "\n",
        "\n",
        "\n",
        "\n",
        "\n",
        "\n",
        "\n",
        "\n",
        "\n",
        "\n",
        "\n",
        "\n",
        "\n",
        "\n",
        "\n",
        "\n",
        "\n",
        "\n",
        "\n",
        "\n",
        "\n",
        "\n",
        "\n",
        "\n",
        "\n",
        "\n",
        "\n",
        "\n",
        "\n",
        "\n",
        "\n",
        "\n",
        "\n",
        "\n",
        "\n",
        "\n",
        "\n",
        "\n",
        "\n",
        "\n",
        "\n",
        "\n",
        "\n",
        "\n",
        "\n",
        "\n",
        "\n",
        "\n"
      ],
      "metadata": {
        "id": "XmdDE1Qn2B7B"
      }
    }
  ],
  "metadata": {
    "colab": {
      "provenance": [],
      "include_colab_link": true
    },
    "kernelspec": {
      "display_name": "Python 3",
      "name": "python3"
    }
  },
  "nbformat": 4,
  "nbformat_minor": 0
}