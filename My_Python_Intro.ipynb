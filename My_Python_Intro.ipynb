{
  "cells": [
    {
      "cell_type": "markdown",
      "metadata": {
        "id": "view-in-github",
        "colab_type": "text"
      },
      "source": [
        "<a href=\"https://colab.research.google.com/github/DK5050/Cbitts-1/blob/main/My_Python_Intro.ipynb\" target=\"_parent\"><img src=\"https://colab.research.google.com/assets/colab-badge.svg\" alt=\"Open In Colab\"/></a>"
      ]
    },
    {
      "cell_type": "code",
      "source": [
        "print (\"Devesh\")"
      ],
      "metadata": {
        "id": "-a3acnrM1oC1",
        "outputId": "3a3ddabf-2ae7-405b-f1d9-f27d92a6a3ff",
        "colab": {
          "base_uri": "https://localhost:8080/"
        }
      },
      "execution_count": null,
      "outputs": [
        {
          "output_type": "stream",
          "name": "stdout",
          "text": [
            "Devesh\n"
          ]
        }
      ]
    },
    {
      "cell_type": "code",
      "source": [
        "a = \"My name is Devesh\"\n",
        "\n",
        "print(a)"
      ],
      "metadata": {
        "id": "y2eT8Dvk2DHM",
        "outputId": "a2768d56-c42f-49c5-8e0f-20d14c3fbbd6",
        "colab": {
          "base_uri": "https://localhost:8080/"
        }
      },
      "execution_count": null,
      "outputs": [
        {
          "output_type": "stream",
          "name": "stdout",
          "text": [
            "My name is Devesh\n"
          ]
        }
      ]
    },
    {
      "cell_type": "code",
      "source": [
        "print (\"My name is Devesh\")\n",
        "print (\"My age is 25\")\n",
        "print (\"My address is Ridhi Towers, Shivalik City, Kharar\")\n",
        "print (\"My hobbies are watching anime and reading manga\")\n",
        "print (\"My family includes my mother, my father, my sister-in-law and my brother\")\n",
        "print (\"My goal in life is to earn boatload of money\")\n",
        "print (\"I have graduated from Chitkara University, Baddi\")\n",
        "print (\"I ave completed my graduation in B.E Computer Science\")"
      ],
      "metadata": {
        "id": "Q4EBM3Bx25lF",
        "outputId": "a84478a9-fc51-46a6-d2bc-6c831823ba27",
        "colab": {
          "base_uri": "https://localhost:8080/"
        }
      },
      "execution_count": null,
      "outputs": [
        {
          "output_type": "stream",
          "name": "stdout",
          "text": [
            "My name is Devesh\n",
            "My age is 25\n",
            "My address is Ridhi Towers, Shivalik City, Kharar\n",
            "My hobbies are watching anime and reading manga\n",
            "My family includes my mother, my father, my sister-in-law and my brother\n",
            "My goal in life is to earn boatload of money\n",
            "I have graduated from Chitkara University, Baddi\n",
            "I ave completed my graduation in B.E Computer Science\n"
          ]
        }
      ]
    },
    {
      "cell_type": "code",
      "source": [
        "a = 25\n",
        "print (\"My age is\",a)"
      ],
      "metadata": {
        "id": "CiI5rOsR3L4R",
        "outputId": "4b173dd2-9f85-495e-a5fb-b60abc3d94b8",
        "colab": {
          "base_uri": "https://localhost:8080/"
        }
      },
      "execution_count": null,
      "outputs": [
        {
          "output_type": "stream",
          "name": "stdout",
          "text": [
            "My age is 25\n"
          ]
        }
      ]
    },
    {
      "cell_type": "code",
      "source": [
        "# Below if the Top 5 most populated states in India\n",
        "\n",
        "print (\"Most populated states in India\")\n",
        "print (\"1. Uttar Pradesh with population of 199 million\")\n",
        "print (\"2. Maharashtra with population of 112 million\")\n",
        "print (\"3. Bihar with population of 104 million\")\n",
        "print (\"4. West Bengal with population of 91 million\")\n",
        "print (\"5. Madhya Pradesh with population of 72 million\")"
      ],
      "metadata": {
        "colab": {
          "base_uri": "https://localhost:8080/"
        },
        "id": "2BhT60qU88yj",
        "outputId": "82f7e448-4486-4a39-f00d-0d67732be447"
      },
      "execution_count": null,
      "outputs": [
        {
          "output_type": "stream",
          "name": "stdout",
          "text": [
            "Most populated states in India\n",
            "1. Uttar Pradesh with population of 199 million\n",
            "2. Maharashtra with population of 112 million\n",
            "3. Bihar with population of 104 million\n",
            "4. West Bengal with population of 91 million\n",
            "5. Madhya Pradesh with population of 72 million\n"
          ]
        }
      ]
    },
    {
      "cell_type": "code",
      "source": [
        "a = \"Devesh\"\n",
        "b = \"Kashyap\"\n",
        "print (a+b)"
      ],
      "metadata": {
        "colab": {
          "base_uri": "https://localhost:8080/"
        },
        "id": "rCAFgFiF_TFT",
        "outputId": "698144c6-ded0-4f83-f825-a359a76c28ea"
      },
      "execution_count": null,
      "outputs": [
        {
          "output_type": "stream",
          "name": "stdout",
          "text": [
            "DeveshKashyap\n"
          ]
        }
      ]
    },
    {
      "cell_type": "code",
      "source": [
        "a =2\n",
        "b = 3\n",
        "print (a+b)"
      ],
      "metadata": {
        "colab": {
          "base_uri": "https://localhost:8080/"
        },
        "id": "s9LrN23U_1hg",
        "outputId": "68a8fb5a-335a-4aba-b694-c5cd41137073"
      },
      "execution_count": null,
      "outputs": [
        {
          "output_type": "stream",
          "name": "stdout",
          "text": [
            "5\n"
          ]
        }
      ]
    },
    {
      "cell_type": "code",
      "source": [
        "# Below are the details of Account and aslo the Account Holder.\n",
        "\"\"\"there are all the information about the account holder and account\"\"\"\n",
        "\n",
        "print (\"Account holder details\")\n",
        "print (\"Account Holder name = Devesh Kashyap\")\n",
        "print (\"Registered Mobile number = 6239887570\")\n",
        "print (\"Residential Address = Ridhi Towers, Shivalik City, Kharar\")\n",
        "\n",
        "print (\"Account Details\")\n",
        "print (\"Account Number = 35356998033\")\n",
        "print (\"IFSC Code = SBIN0000702\")\n",
        "print (\"Bank Name = STATE BANK OF INDIA\")\n",
        "print (\"Branch Name = SBI RAMPUR BUSR, HP\")\n",
        "\n"
      ],
      "metadata": {
        "colab": {
          "base_uri": "https://localhost:8080/"
        },
        "id": "GWsN1v_yAfhz",
        "outputId": "3389885a-c612-4b92-87e0-1c995e311e91"
      },
      "execution_count": null,
      "outputs": [
        {
          "output_type": "stream",
          "name": "stdout",
          "text": [
            "Account holder details\n",
            "Account Holder name = Devesh Kashyap\n",
            "Registered Mobile number = 6239887570\n",
            "Residential Address = Ridhi Towers, Shivalik City, Kharar\n",
            "Account Details\n",
            "Account Number = 35356998033\n",
            "IFSC Code = SBIN0000702\n",
            "Bank Name = STATE BANK OF INDIA\n",
            "Branch Name = SBI RAMPUR BUSR, HP\n"
          ]
        }
      ]
    },
    {
      "cell_type": "code",
      "source": [],
      "metadata": {
        "id": "tob1TucuGCp8"
      },
      "execution_count": null,
      "outputs": []
    },
    {
      "cell_type": "code",
      "source": [
        "# Below if my daily routine shedule\n",
        "\n",
        "print (\" My Daily Routine\")\n",
        "print (\"7:00 AM Wake-Up\")\n",
        "print (\"7:30 AM -8:30 AM Morning Workout\")\n",
        "print (\"8:30 AM Freshen Up Time\")\n",
        "print (\"9:00 AM Breakfast Time\")\n",
        "print (\"9:30 AM OFF TO WORK\")\n",
        "print (\"1:30 PM Lunch Time\")\n",
        "print (\"3:00 PM OFF TO HOME FROM WORK\")\n",
        "print (\"3:30 PM - 5:30 PM Academy Time\")\n",
        "print (\"6:00 PM - 8:00 PM Hangout with friends\")\n",
        "print (\"9 PM Dinner Time\")\n",
        "print (\"10:00 PM OFF TO SLEEP\")"
      ],
      "metadata": {
        "colab": {
          "base_uri": "https://localhost:8080/"
        },
        "id": "SNboIyHjDFqt",
        "outputId": "7100d190-c5b2-47cd-b92c-a92fd77cc5ee"
      },
      "execution_count": null,
      "outputs": [
        {
          "output_type": "stream",
          "name": "stdout",
          "text": [
            " My Daily Routine\n",
            "7:00 AM Wake-Up\n",
            "7:30 AM -8:30 AM Morning Workout\n",
            "8:30 AM Freshen Up Time\n",
            "9:00 AM Breakfast Time\n",
            "9:30 AM OFF TO WORK\n",
            "1:30 PM Lunch Time\n",
            "3:00 PM OFF TO HOME FROM WORK\n",
            "3:30 PM - 5:30 PM Academy Time\n",
            "6:00 PM - 8:00 PM Hangout with friends\n",
            "9 PM Dinner Time\n",
            "10:00 PM OFF TO SLEEP\n"
          ]
        }
      ]
    },
    {
      "cell_type": "code",
      "source": [
        "#Below is my required monthly grocery list\n",
        "\"\"\"all the items are in kg and litre\"\"\"\n",
        "\n",
        "print (\"Monthly Grocery List\")\n",
        "print (\"Wheat = 10 kg\")\n",
        "print (\"Rice = 10 kg\")\n",
        "print (\"Sugar = 5 kg\")\n",
        "print (\"Salt = 5 kg\")\n",
        "print (\"Oil = 2 litre\")\n",
        "print (\"Pulses = 2 kg/packet\")\n",
        "print (\"Onion = 5 kg\")\n",
        "print (\"Garlic = 2 kg\")\n",
        "print (\"Potato = 5 kg\")\n",
        "print (\"Ginger = 1 kg\")\n",
        "print (\"Cold Drinks = 2 litre\")\n",
        "print (\"Coffee = 1kg\")\n",
        "print (\"Tea = 1 kg\")\n",
        "print (\"1 Jumbo Pack of Corn Flakes\")\n",
        "print (\"Porridge = 1 kg\")"
      ],
      "metadata": {
        "colab": {
          "base_uri": "https://localhost:8080/"
        },
        "id": "Tx3DYzX8rkyS",
        "outputId": "733115c8-97e8-4b63-cbd4-d690b97cb440"
      },
      "execution_count": 1,
      "outputs": [
        {
          "output_type": "stream",
          "name": "stdout",
          "text": [
            "Monthly Grocery List\n",
            "Wheat = 10 kg\n",
            "Rice = 10 kg\n",
            "Sugar = 5 kg\n",
            "Salt = 5 kg\n",
            "Oil = 2 litre\n",
            "Pulses = 2 kg/packet\n",
            "Onion = 5 kg\n",
            "Garlic = 2 kg\n",
            "Potato = 5 kg\n",
            "Ginger = 1 kg\n",
            "Cold Drinks = 2 litre\n",
            "Coffee = 1kg\n",
            "Tea = 1 kg\n",
            "1 Jumbo Pack of Corn Flakes\n",
            "Porridge = 1 kg\n"
          ]
        }
      ]
    },
    {
      "cell_type": "markdown",
      "source": [],
      "metadata": {
        "id": "es8iR--kE-bb"
      }
    },
    {
      "cell_type": "markdown",
      "source": [],
      "metadata": {
        "id": "XmdDE1Qn2B7B"
      }
    }
  ],
  "metadata": {
    "colab": {
      "provenance": [],
      "include_colab_link": true
    },
    "kernelspec": {
      "display_name": "Python 3",
      "name": "python3"
    }
  },
  "nbformat": 4,
  "nbformat_minor": 0
}